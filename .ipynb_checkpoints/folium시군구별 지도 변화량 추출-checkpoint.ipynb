{
 "cells": [
  {
   "cell_type": "code",
   "execution_count": 1,
   "metadata": {},
   "outputs": [],
   "source": [
    "import pandas as pd"
   ]
  },
  {
   "cell_type": "code",
   "execution_count": 2,
   "metadata": {
    "scrolled": true
   },
   "outputs": [],
   "source": [
    "data = pd.read_csv('data/DAGUCARD06.csv')"
   ]
  },
  {
   "cell_type": "code",
   "execution_count": 3,
   "metadata": {},
   "outputs": [],
   "source": [
    "data.columns = ['년도',\n",
    "'년월',\n",
    "'운행일자',\n",
    "'요일구분',\n",
    "'시간대',\n",
    "'이용자유형코드',\n",
    "'교통수단코드',\n",
    "'정산사ID',\n",
    "'정산지역코드',\n",
    "'교통수단구분코드',\n",
    "'노선ID',\n",
    "'정류장ID',\n",
    "'시도코드',\n",
    "'시군구코드',\n",
    "'이용지역코드',\n",
    "'발생통행인원',\n",
    "'도착통행인원',\n",
    "'발생통행건수',\n",
    "'도착통행건수',\n",
    "'발생이용거리',\n",
    "'도착이용거리',\n",
    "'발생소요시간',\n",
    "'도착소요시간'\n",
    "]"
   ]
  },
  {
   "cell_type": "code",
   "execution_count": 4,
   "metadata": {},
   "outputs": [],
   "source": [
    "data = data.drop(['년월','교통수단코드','정산사ID','노선ID','정류장ID','정산지역코드','교통수단구분코드','발생소요시간','도착소요시간',\n",
    "            '발생이용거리','도착이용거리','도착통행건수','발생통행건수','시도코드'],axis=1)"
   ]
  },
  {
   "cell_type": "code",
   "execution_count": 5,
   "metadata": {},
   "outputs": [],
   "source": [
    "data['시군구코드'] = data['시군구코드'].map({ 27000: '대구광역시',\n",
    "                                              27140:'동구', \n",
    "                                              27260 :'수성구',\n",
    "                                              27710 : '달성군' ,\n",
    "                                              27290 : '달서구',\n",
    "                                              27200 : '남구',\n",
    "                                              27110 :'중구',\n",
    "                                              27230 : '북구',\n",
    "                                              27170 : '서구'}) #레이블인코딩"
   ]
  },
  {
   "cell_type": "code",
   "execution_count": 6,
   "metadata": {
    "scrolled": true
   },
   "outputs": [],
   "source": [
    "data19 = data.loc[data.년도 == 2019]\n",
    "data20 = data.loc[data.년도 == 2020]"
   ]
  },
  {
   "cell_type": "code",
   "execution_count": 7,
   "metadata": {},
   "outputs": [],
   "source": [
    "dongu19 = data19.loc[data19.시군구코드=='동구']\n",
    "su19 = data19.loc[data19.시군구코드=='수성구']\n",
    "dal19 = data19.loc[data19.시군구코드=='달성군']\n",
    "dalsu19 = data19.loc[data19.시군구코드=='달서구']\n",
    "namgu19 = data19.loc[data19.시군구코드=='남구']\n",
    "middle19 = data19.loc[data19.시군구코드=='중구']\n",
    "north19 = data19.loc[data19.시군구코드=='북구']\n",
    "se19 = data19.loc[data19.시군구코드=='서구']"
   ]
  },
  {
   "cell_type": "code",
   "execution_count": 8,
   "metadata": {},
   "outputs": [],
   "source": [
    "dongu20 = data20.loc[data20.시군구코드=='동구']\n",
    "su20 = data20.loc[data20.시군구코드=='수성구']\n",
    "dal20 = data20.loc[data20.시군구코드=='달성군']\n",
    "dalsu20 = data20.loc[data20.시군구코드=='달서구']\n",
    "namgu20 = data20.loc[data20.시군구코드=='남구']\n",
    "middle20 = data20.loc[data20.시군구코드=='중구']\n",
    "north20 = data20.loc[data20.시군구코드=='북구']\n",
    "se20 = data20.loc[data20.시군구코드=='서구']"
   ]
  },
  {
   "cell_type": "code",
   "execution_count": 2,
   "metadata": {},
   "outputs": [
    {
     "data": {
      "text/plain": [
       "230"
      ]
     },
     "execution_count": 2,
     "metadata": {},
     "output_type": "execute_result"
    }
   ],
   "source": [
    "len(a)"
   ]
  },
  {
   "cell_type": "code",
   "execution_count": 1,
   "metadata": {},
   "outputs": [],
   "source": [
    "a = ['대구광역시 달성군 화원읍 천내리',\n",
    " '대구광역시 달서구 대곡동',\n",
    " '대구광역시 동구 방촌동',\n",
    " '대구광역시 동구 신서동',\n",
    " '대구광역시 동구 괴전동',\n",
    " '대구광역시 달서구 용산동',\n",
    " '대구광역시 북구 동호동',\n",
    " '대구광역시 북구 동천동',\n",
    " '대구광역시 수성구 지산동',\n",
    " '대구광역시 수성구 범물동',\n",
    " '대구광역시 달성군 화원읍 설화리',\n",
    " '대구광역시 달성군 다사읍 문양리',\n",
    " '대구광역시 북구 구암동',\n",
    " '대구광역시 중구 삼덕동2가',\n",
    " '대구광역시 동구 불로동',\n",
    " '대구광역시 동구 봉무동',\n",
    " '대구광역시 동구 신암동',\n",
    " '대구광역시 동구 지저동',\n",
    " '대구광역시 동구 지묘동',\n",
    " '대구광역시 북구 침산동',\n",
    " '대구광역시 북구 복현동',\n",
    " '대구광역시 북구 산격동',\n",
    " '대구광역시 중구 태평로3가',\n",
    " '대구광역시 중구 동인동1가',\n",
    " '대구광역시 동구 신천동',\n",
    " '대구광역시 동구 효목동',\n",
    " '대구광역시 동구 중대동',\n",
    " '대구광역시',\n",
    " '대구광역시 서구 원대동1가',\n",
    " '대구광역시 중구 서성로1가',\n",
    " '대구광역시 중구 공평동',\n",
    " '대구광역시 중구 대봉동',\n",
    " '대구광역시 중구 봉산동',\n",
    " '대구광역시 수성구 만촌동',\n",
    " '대구광역시 수성구 황금동',\n",
    " '대구광역시 남구 대명동',\n",
    " '대구광역시 남구 이천동',\n",
    " '대구광역시 중구 동성로3가',\n",
    " '대구광역시 중구 남일동',\n",
    " '대구광역시 중구 화전동',\n",
    " '대구광역시 북구 칠성동2가',\n",
    " '대구광역시 수성구 수성동1가',\n",
    " '대구광역시 수성구 파동',\n",
    " '대구광역시 수성구 상동',\n",
    " '대구광역시 수성구 중동',\n",
    " '대구광역시 달성군 가창면 용계리',\n",
    " '대구광역시 달성군 가창면 대일리',\n",
    " '대구광역시 중구 동산동',\n",
    " '대구광역시 중구 상서동',\n",
    " '대구광역시 북구 대현동',\n",
    " '대구광역시 동구 백안동',\n",
    " '대구광역시 동구 용수동',\n",
    " '대구광역시 북구 칠성동1가',\n",
    " '대구광역시 서구 중리동',\n",
    " '대구광역시 서구 평리동',\n",
    " '대구광역시 서구 비산동',\n",
    " '대구광역시 서구 내당동',\n",
    " '대구광역시 달서구 신당동',\n",
    " '대구광역시 달서구 호산동',\n",
    " '대구광역시 달서구 이곡동',\n",
    " '대구광역시 달성군 다사읍 죽곡리',\n",
    " '대구광역시 달성군 다사읍 매곡리',\n",
    " '대구광역시 수성구 성동',\n",
    " '대구광역시 중구 문화동',\n",
    " '대구광역시 동구 용계동',\n",
    " '대구광역시 달서구 성당동',\n",
    " '대구광역시 달서구 감삼동',\n",
    " '대구광역시 달서구 두류동',\n",
    " '대구광역시 달서구 월암동',\n",
    " '대구광역시 중구 태평로2가',\n",
    " '대구광역시 북구 사수동',\n",
    " '대구광역시 서구 이현동',\n",
    " '대구광역시 남구 봉덕동',\n",
    " '대구광역시 동구 도학동',\n",
    " '대구광역시 달서구 상인동',\n",
    " '대구광역시 달서구 도원동',\n",
    " '대구광역시 달서구 유천동',\n",
    " '대구광역시 달성군 다사읍 세천리',\n",
    " '대구광역시 달서구 월성동',\n",
    " '대구광역시 달서구 장기동',\n",
    " '대구광역시 달서구 본리동',\n",
    " '대구광역시 달성군 화원읍 성산리',\n",
    " '대구광역시 달서구 진천동',\n",
    " '대구광역시 달서구 본동',\n",
    " '대구광역시 북구 검단동',\n",
    " '대구광역시 북구 매천동',\n",
    " '대구광역시 북구 태전동',\n",
    " '대구광역시 북구 서변동',\n",
    " '대구광역시 북구 동변동',\n",
    " '대구광역시 동구 율하동',\n",
    " '대구광역시 서구 원대동3가',\n",
    " '대구광역시 북구 노원동2가',\n",
    " '대구광역시 북구 노원동3가',\n",
    " '대구광역시 북구 팔달동',\n",
    " '대구광역시 북구 금호동',\n",
    " '대구광역시 중구 삼덕동1가',\n",
    " '대구광역시 달서구 송현동',\n",
    " '대구광역시 달서구 죽전동',\n",
    " '대구광역시 달성군 다사읍 서재리',\n",
    " '대구광역시 달서구 파호동',\n",
    " '대구광역시 달서구 대천동',\n",
    " '대구광역시 달성군 하빈면 기곡리',\n",
    " '대구광역시 달성군 옥포읍 교항리',\n",
    " '대구광역시 북구 학정동',\n",
    " '대구광역시 북구 읍내동',\n",
    " '대구광역시 북구 국우동',\n",
    " '대구광역시 북구 관음동',\n",
    " '대구광역시 동구 검사동',\n",
    " '대구광역시 수성구 범어동',\n",
    " '대구광역시 동구 입석동',\n",
    " '대구광역시 동구 신평동',\n",
    " '대구광역시 수성구 수성동4가',\n",
    " '대구광역시 동구 동호동',\n",
    " '대구광역시 동구 각산동',\n",
    " '대구광역시 동구 사복동',\n",
    " '대구광역시 동구 숙천동',\n",
    " '대구광역시 수성구 두산동',\n",
    " '대구광역시 중구 남산동',\n",
    " '대구광역시 중구 동인동2가',\n",
    " '대구광역시 중구 삼덕동3가',\n",
    " '대구광역시 수성구 시지동',\n",
    " '대구광역시 수성구 신매동',\n",
    " '대구광역시 수성구 연호동',\n",
    " '대구광역시 북구 고성동3가',\n",
    " '대구광역시 북구 노원동1가',\n",
    " '대구광역시 수성구 매호동',\n",
    " '대구광역시 중구 태평로1가',\n",
    " '대구광역시 동구 진인동',\n",
    " '대구광역시 북구 조야동',\n",
    " '대구광역시 수성구 수성동2가',\n",
    " '대구광역시 달성군 화원읍 명곡리',\n",
    " '대구광역시 수성구 수성동3가',\n",
    " '대구광역시 중구 동인동4가',\n",
    " '대구광역시 동구 신기동',\n",
    " '대구광역시 중구 대신동',\n",
    " '대구광역시 중구 계산동1가',\n",
    " '대구광역시 달성군 유가읍 봉리',\n",
    " '대구광역시 달성군 유가읍 금리',\n",
    " '대구광역시 달성군 현풍읍 중리',\n",
    " '대구광역시 달성군 유가읍 쌍계리',\n",
    " '대구광역시 달서구 갈산동',\n",
    " '대구광역시 달성군 다사읍 방천리',\n",
    " '대구광역시 달성군 논공읍 금포리',\n",
    " '대구광역시 달성군 논공읍 위천리',\n",
    " '대구광역시 달성군 논공읍 남리',\n",
    " '대구광역시 달성군 논공읍 본리리',\n",
    " '대구광역시 중구 계산동2가',\n",
    " '대구광역시 중구 달성동',\n",
    " '대구광역시 달성군 화원읍 본리리',\n",
    " '대구광역시 수성구 사월동',\n",
    " '대구광역시 달성군 현풍읍 하리',\n",
    " '대구광역시 달성군 논공읍 북리',\n",
    " '대구광역시 달성군 현풍읍 성하리',\n",
    " '대구광역시 동구 대림동',\n",
    " '대구광역시 중구 시장북로',\n",
    " '대구광역시 동구 서호동',\n",
    " '대구광역시 서구 원대동2가',\n",
    " '대구광역시 수성구 욱수동',\n",
    " '대구광역시 수성구 대흥동',\n",
    " '대구광역시 중구 덕산동',\n",
    " '대구광역시 중구 수창동',\n",
    " '대구광역시 동구 미곡동',\n",
    " '대구광역시 달서구 장동',\n",
    " '대구광역시 북구 노곡동',\n",
    " '대구광역시 북구 고성동2가',\n",
    " '대구광역시 북구 고성동1가',\n",
    " '대구광역시 달성군 가창면 냉천리',\n",
    " '대구광역시 달성군 가창면 우록리',\n",
    " '대구광역시 달성군 화원읍 구라리',\n",
    " '대구광역시 달성군 논공읍 노이리',\n",
    " '대구광역시 달성군 구지면 창리',\n",
    " '대구광역시 동구 부동',\n",
    " '대구광역시 수성구 이천동',\n",
    " '대구광역시 동구 미대동',\n",
    " '대구광역시 수성구 삼덕동',\n",
    " '대구광역시 달성군 가창면 삼산리',\n",
    " '대구광역시 달성군 가창면 옥분리',\n",
    " '대구광역시 달서구 호림동',\n",
    " '대구광역시 달성군 구지면 응암리',\n",
    " '대구광역시 서구 상리동',\n",
    " '대구광역시 달성군 현풍읍 부리',\n",
    " '대구광역시 달성군 옥포읍 본리리',\n",
    " '대구광역시 중구 동인동3가',\n",
    " '대구광역시 달성군 옥포읍 간경리',\n",
    " '대구광역시 달성군 논공읍 삼리리',\n",
    " '대구광역시 수성구 노변동',\n",
    " '대구광역시 수성구 고모동',\n",
    " '대구광역시 달성군 하빈면 감문리',\n",
    " '대구광역시 달성군 구지면 예현리',\n",
    " '대구광역시 동구 동내동',\n",
    " '대구광역시 동구 율암동',\n",
    " '대구광역시 동구 내동',\n",
    " '대구광역시 달성군 구지면 내리',\n",
    " '대구광역시 달성군 논공읍 상리',\n",
    " '대구광역시 달성군 논공읍 하리',\n",
    " '대구광역시 달성군 현풍읍 원교리',\n",
    " '대구광역시 달성군 하빈면 동곡리',\n",
    " '대구광역시 달성군 하빈면 무등리',\n",
    " '대구광역시 동구 매여동',\n",
    " '대구광역시 중구 동문동',\n",
    " '대구광역시 수성구 가천동',\n",
    " '대구광역시 달성군 다사읍 문산리',\n",
    " '대구광역시 달성군 하빈면 대평리',\n",
    " '대구광역시 달성군 옥포읍 반송리',\n",
    " '대구광역시 달성군 유가읍 한정리',\n",
    " '대구광역시 달성군 유가읍 도의리',\n",
    " '대구광역시 달성군 유가읍 가태리',\n",
    " '대구광역시 달성군 현풍읍 대리',\n",
    " '대구광역시 북구 연경동',\n",
    " '대구광역시 북구 도남동',\n",
    " '대구광역시 달성군 가창면 주리',\n",
    " '대구광역시 달성군 현풍읍 신기리',\n",
    " '대구광역시 달성군 하빈면 현내리',\n",
    " '대구광역시 달성군 유가읍 상리',\n",
    " '대구광역시 달성군 다사읍 부곡리',\n",
    " '대구광역시 동구 상매동',\n",
    " '대구광역시 달성군 옥포읍 김흥리',\n",
    " '대구광역시 달성군 유가읍 용리',\n",
    " '대구광역시 달성군 구지면 고봉리',\n",
    " '대구광역시 달성군 구지면 평촌리',\n",
    " '대구광역시 달성군 유가읍 양리',\n",
    " '대구광역시 동구 신무동',\n",
    " '대구광역시 동구 송정동',\n",
    " '대구광역시 동구 덕곡동',\n",
    " '대구광역시 달성군 유가읍 유곡리',\n",
    " '대구광역시 달성군 옥포읍 강림리',\n",
    " '대구광역시 달성군 옥포읍 기세리',\n",
    " '대구광역시 달성군 구지면 유산리',\n",
    " '대구광역시 달성군 현풍읍 상리',\n",
    " '대구광역시 동구 능성동']"
   ]
  },
  {
   "cell_type": "code",
   "execution_count": 10,
   "metadata": {
    "scrolled": false
   },
   "outputs": [
    {
     "data": {
      "text/plain": [
       "230"
      ]
     },
     "execution_count": 10,
     "metadata": {},
     "output_type": "execute_result"
    }
   ],
   "source": [
    "len(a)"
   ]
  },
  {
   "cell_type": "code",
   "execution_count": 12,
   "metadata": {},
   "outputs": [],
   "source": [
    "b= data.이용지역코드.unique()"
   ]
  },
  {
   "cell_type": "code",
   "execution_count": null,
   "metadata": {},
   "outputs": [],
   "source": [
    "for i in range(len(a)):\n",
    "    "
   ]
  },
  {
   "cell_type": "code",
   "execution_count": 57,
   "metadata": {
    "scrolled": true
   },
   "outputs": [],
   "source": [
    "#서군구별 발생 평일 190101~190217\n",
    "dongu19_before_weekday_start_tmp = dongu19.loc[(dongu19.운행일자 >=20190101)&(dongu19.운행일자 <=20190217) & \n",
    "                       ((dongu19.요일구분!=1)&(dongu19.요일구분!=7))].발생통행인원\n",
    "su19_before_weekday_start_tmp = su19.loc[(su19.운행일자 >=20190101)&(su19.운행일자 <=20190217) & \n",
    "                       ((su19.요일구분!=1)&(su19.요일구분!=7))].발생통행인원\n",
    "dal19_before_weekday_start_tmp = dal19.loc[(dal19.운행일자 >=20190101)&(dal19.운행일자 <=20190217) & \n",
    "                       ((dal19.요일구분!=1)&(dal19.요일구분!=7))].발생통행인원\n",
    "dalsu19_before_weekday_start_tmp = dalsu19.loc[(dalsu19.운행일자 >=20190101)&(dalsu19.운행일자 <=20190217) & \n",
    "                       ((dalsu19.요일구분!=1)&(dalsu19.요일구분!=7))].발생통행인원\n",
    "namgu19_before_weekday_start_tmp = namgu19.loc[(namgu19.운행일자 >=20190101)&(namgu19.운행일자 <=20190217) & \n",
    "                       ((namgu19.요일구분!=1)&(namgu19.요일구분!=7))].발생통행인원\n",
    "middle19_before_weekday_start_tmp = middle19.loc[(middle19.운행일자 >=20190101)&(middle19.운행일자 <=20190217) & \n",
    "                       ((middle19.요일구분!=1)&(middle19.요일구분!=7))].발생통행인원\n",
    "north19_before_weekday_start_tmp = north19.loc[(north19.운행일자 >=20190101)&(north19.운행일자 <=20190217) & \n",
    "                       ((north19.요일구분!=1)&(north19.요일구분!=7))].발생통행인원\n",
    "se19_before_weekday_start_tmp = se19.loc[(se19.운행일자 >=20190101)&(se19.운행일자 <=20190217) & \n",
    "                       ((se19.요일구분!=1)&(se19.요일구분!=7))].발생통행인원\n",
    "\n",
    "dal19_b_w_s = (dal19_before_weekday_start_tmp/34).sum() #달서구 \n",
    "dongu19_b_w_s = (dongu19_before_weekday_start_tmp/34).sum() #동구\n",
    "su19_b_w_s = (su19_before_weekday_start_tmp/34).sum() #수성군\n",
    "dal19_b_w_s = (dal19_before_weekday_start_tmp/34).sum() #달성군\n",
    "namgu19_b_w_s = (namgu19_before_weekday_start_tmp/34).sum() #남구\n",
    "se19_b_w_s = (se19_before_weekday_start_tmp/34).sum() #서구\n",
    "north19_b_w_s = (north19_before_weekday_start_tmp/34).sum() #북구\n",
    "middle19_b_w_s = (middle19_before_weekday_start_tmp/34).sum() #중구\n",
    "\n",
    "\n",
    "#서군구별 평일 190101~190217\n",
    "map_osm = folium.Map(location=[35.87222, 128.60250], zoom_start=11)\n",
    "folium.CircleMarker([35.825554,128.522400], radius=dal19_b_w_a/5000,color='red',fill_color='#3186cc').add_to(map_osm) #달서구\n",
    "folium.CircleMarker([35.943167, 128.682245], radius=dongu19_b_w_a/5000,color='blue',fill_color='#3186cc').add_to(map_osm) #동구\n",
    "folium.CircleMarker([35.833766, 128.661857], radius=su19_b_w_a/5000,color='white',fill_color='#3186cc').add_to(map_osm) #수성구\n",
    "folium.CircleMarker([35.759767, 128.486344], radius=dal19_b_w_a/5000,color='black',fill_color='#3186cc').add_to(map_osm) #달성군\n",
    "folium.CircleMarker([35.835756, 128.585926], radius=namgu19_b_w_a/5000,color='yellow',fill_color='#3186cc').add_to(map_osm) #남구\n",
    "folium.CircleMarker([35.874749, 128.549190], radius=se19_b_w_a/5000,color='green',fill_color='#3186cc').add_to(map_osm) #서구\n",
    "folium.CircleMarker([35.928377, 128.576568], radius=north19_b_w_a/5000,color='pink',fill_color='#3186cc').add_to(map_osm) #북구\n",
    "folium.CircleMarker([35.866492, 128.592795], radius=middle19_b_w_a/5000,color='#3186cc',fill_color='#3186cc').add_to(map_osm) #중구\n",
    "# text = 'your text here'\n",
    "\n",
    "# iframe = folium.IFrame(text, width=700, height=450)\n",
    "\n",
    "# Text = folium.Marker(location=[35.825554,128.60250])\n",
    "# map_osm.add_child(Text)\n",
    "map_osm\n",
    "map_osm.save('daeguweekday0101~0217start.html')"
   ]
  },
  {
   "cell_type": "code",
   "execution_count": 9,
   "metadata": {},
   "outputs": [],
   "source": [
    "#서군구별 평일 190101~190217\n",
    "dongu19_before_weekday_arrival_tmp = dongu19.loc[(dongu19.운행일자 >=20190101)&(dongu19.운행일자 <=20190217) & \n",
    "                       ((dongu19.요일구분!=1)&(dongu19.요일구분!=7))].도착통행인원\n",
    "su19_before_weekday_arrival_tmp = su19.loc[(su19.운행일자 >=20190101)&(su19.운행일자 <=20190217) & \n",
    "                       ((su19.요일구분!=1)&(su19.요일구분!=7))].도착통행인원\n",
    "dal19_before_weekday_arrival_tmp = dal19.loc[(dal19.운행일자 >=20190101)&(dal19.운행일자 <=20190217) & \n",
    "                       ((dal19.요일구분!=1)&(dal19.요일구분!=7))].도착통행인원\n",
    "dalsu19_before_weekday_arrival_tmp = dalsu19.loc[(dalsu19.운행일자 >=20190101)&(dalsu19.운행일자 <=20190217) & \n",
    "                       ((dalsu19.요일구분!=1)&(dalsu19.요일구분!=7))].도착통행인원\n",
    "namgu19_before_weekday_arrival_tmp = namgu19.loc[(namgu19.운행일자 >=20190101)&(namgu19.운행일자 <=20190217) & \n",
    "                       ((namgu19.요일구분!=1)&(namgu19.요일구분!=7))].도착통행인원\n",
    "middle19_before_weekday_arrival_tmp = middle19.loc[(middle19.운행일자 >=20190101)&(middle19.운행일자 <=20190217) & \n",
    "                       ((middle19.요일구분!=1)&(middle19.요일구분!=7))].도착통행인원\n",
    "north19_before_weekday_arrival_tmp = north19.loc[(north19.운행일자 >=20190101)&(north19.운행일자 <=20190217) & \n",
    "                       ((north19.요일구분!=1)&(north19.요일구분!=7))].도착통행인원\n",
    "se19_before_weekday_arrival_tmp = se19.loc[(se19.운행일자 >=20190101)&(se19.운행일자 <=20190217) & \n",
    "                       ((se19.요일구분!=1)&(se19.요일구분!=7))].도착통행인원"
   ]
  },
  {
   "cell_type": "code",
   "execution_count": 13,
   "metadata": {
    "scrolled": true
   },
   "outputs": [],
   "source": [
    "dal19_b_w_a = (dalsu19_before_weekday_arrival_tmp/34).sum() #달서구 \n",
    "dongu19_b_w_a = (dongu19_before_weekday_arrival_tmp/34).sum() #동구\n",
    "su19_b_w_a = (su19_before_weekday_arrival_tmp/34).sum() #수성군\n",
    "dal19_b_w_a = (dal19_before_weekday_arrival_tmp/34).sum() #달성군\n",
    "namgu19_b_w_a = (namgu19_before_weekday_arrival_tmp/34).sum() #남구\n",
    "se19_b_w_a = (se19_before_weekday_arrival_tmp/34).sum() #서구\n",
    "north19_b_w_a = (north19_before_weekday_arrival_tmp/34).sum() #북구\n",
    "middle19_b_w_a = (middle19_before_weekday_arrival_tmp/34).sum() #중구\n"
   ]
  },
  {
   "cell_type": "code",
   "execution_count": 11,
   "metadata": {},
   "outputs": [],
   "source": [
    "import folium"
   ]
  },
  {
   "cell_type": "code",
   "execution_count": 58,
   "metadata": {
    "scrolled": true
   },
   "outputs": [],
   "source": [
    "#서군구별 평일 190101~190217\n",
    "map_osm = folium.Map(location=[35.87222, 128.60250], zoom_start=11)\n",
    "folium.CircleMarker([35.825554,128.522400], radius=dal19_b_w_a/5000,color='red',fill_color='#3186cc').add_to(map_osm) #달서구\n",
    "folium.CircleMarker([35.943167, 128.682245], radius=dongu19_b_w_a/5000,color='blue',fill_color='#3186cc').add_to(map_osm) #동구\n",
    "folium.CircleMarker([35.833766, 128.661857], radius=su19_b_w_a/5000,color='white',fill_color='#3186cc').add_to(map_osm) #수성구\n",
    "folium.CircleMarker([35.759767, 128.486344], radius=dal19_b_w_a/5000,color='black',fill_color='#3186cc').add_to(map_osm) #달성군\n",
    "folium.CircleMarker([35.835756, 128.585926], radius=namgu19_b_w_a/5000,color='yellow',fill_color='#3186cc').add_to(map_osm) #남구\n",
    "folium.CircleMarker([35.874749, 128.549190], radius=se19_b_w_a/5000,color='green',fill_color='#3186cc').add_to(map_osm) #서구\n",
    "folium.CircleMarker([35.928377, 128.576568], radius=north19_b_w_a/5000,color='pink',fill_color='#3186cc').add_to(map_osm) #북구\n",
    "folium.CircleMarker([35.866492, 128.592795], radius=middle19_b_w_a/5000,color='#3186cc',fill_color='#3186cc').add_to(map_osm) #중구\n",
    "# text = 'your text here'\n",
    "\n",
    "# iframe = folium.IFrame(text, width=700, height=450)\n",
    "\n",
    "# Text = folium.Marker(location=[35.825554,128.60250])\n",
    "# map_osm.add_child(Text)\n",
    "map_osm\n",
    "map_osm.save('daeguweekday0101~0217arrive.html')"
   ]
  },
  {
   "cell_type": "code",
   "execution_count": 59,
   "metadata": {},
   "outputs": [],
   "source": [
    "dongu19_before_weekend_start_tmp = dongu19.loc[(dongu19.운행일자 >=20190101)&(dongu19.운행일자 <=20190217) & \n",
    "                       ((dongu19.요일구분==1)&(dongu19.요일구분==7))].발생통행인원\n",
    "su19_before_weekend_start_tmp = su19.loc[(dongu19.운행일자 >=20190101)&(su19.운행일자 <=20190217) & \n",
    "                       ((su19.요일구분==1)&(su19.요일구분==7))].발생통행인원\n",
    "dal19_before_weekend_start_tmp = dal19.loc[(dal19.운행일자 >=20190101)&(dal19.운행일자 <=20190217) & \n",
    "                       ((dal19.요일구분==1)&(dal19.요일구분==7))].발생통행인원\n",
    "dalsu19_before_weekend_start_tmp = dalsu19.loc[(dalsu19.운행일자 >=20190101)&(dalsu19.운행일자 <=20190217) & \n",
    "                       ((dalsu19.요일구분==1)&(dalsu19.요일구분==7))].발생통행인원\n",
    "namgu19_before_weekend_start_tmp = namgu19.loc[(namgu19.운행일자 >=20190101)&(namgu19.운행일자 <=20190217) & \n",
    "                       ((namgu19.요일구분==1)&(namgu19.요일구분==7))].발생통행인원\n",
    "middle19_before_weekend_start_tmp = middle19.loc[(middle19.운행일자 >=20190101)&(middle19.운행일자 <=20190217) & \n",
    "                       ((middle19.요일구분==1)&(middle19.요일구분==7))].발생통행인원\n",
    "north19_before_weekend_start_tmp = north19.loc[(north19.운행일자 >=20190101)&(north19.운행일자 <=20190217) & \n",
    "                       ((north19.요일구분==1)&(north19.요일구분==7))].발생통행인원\n",
    "se19_before_weekend_start_tmp = se19.loc[(se19.운행일자 >=20190101)&(se19.운행일자 <=20190217) & \n",
    "                       ((se19.요일구분==1)&(se19.요일구분==7))].발생통행인원"
   ]
  },
  {
   "cell_type": "code",
   "execution_count": 60,
   "metadata": {},
   "outputs": [],
   "source": [
    "dal19_b_wd_s= (dalsu19_before_weekday_start_tmp/14).sum() #달서구 \n",
    "dongu19_b_wd_s= (dongu19_before_weekday_start_tmp/14).sum() #동구\n",
    "su19_b_wd_s = (su19_before_weekday_start_tmp/14).sum() #수성군\n",
    "dal19_b_wd_s = (dal19_before_weekday_start_tmp/14).sum() #달성군\n",
    "namgu19_b_wd_s = (namgu19_before_weekday_start_tmp/14).sum() #남구\n",
    "se19_b_wd_s= (se19_before_weekday_start_tmp/14).sum() #서구\n",
    "north19_b_wd_s= (north19_before_weekday_start_tmp/14).sum() #북구\n",
    "middle19_b_wd_s = (middle19_before_weekday_start_tmp/14).sum() #중구\n"
   ]
  },
  {
   "cell_type": "code",
   "execution_count": 61,
   "metadata": {},
   "outputs": [
    {
     "data": {
      "text/html": [
       "<div style=\"width:100%;\"><div style=\"position:relative;width:100%;height:0;padding-bottom:60%;\"><span style=\"color:#565656\">Make this Notebook Trusted to load map: File -> Trust Notebook</span><iframe src=\"about:blank\" style=\"position:absolute;width:100%;height:100%;left:0;top:0;border:none !important;\" data-html=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 onload=\"this.contentDocument.open();this.contentDocument.write(atob(this.getAttribute('data-html')));this.contentDocument.close();\" allowfullscreen webkitallowfullscreen mozallowfullscreen></iframe></div></div>"
      ],
      "text/plain": [
       "<folium.folium.Map at 0x255a26ef588>"
      ]
     },
     "execution_count": 61,
     "metadata": {},
     "output_type": "execute_result"
    }
   ],
   "source": [
    "#서군구별 주말 190101~190217\n",
    "map_osm = folium.Map(location=[35.87222, 128.60250], zoom_start=11)\n",
    "folium.CircleMarker([35.825554,128.522400], radius=dal19_b_wd_s/5000,color='red',fill_color='#3186cc').add_to(map_osm) #달서구\n",
    "folium.CircleMarker([35.943167, 128.682245], radius=dongu19_b_wd_s/5000,color='blue',fill_color='#3186cc').add_to(map_osm) #동구\n",
    "folium.CircleMarker([35.833766, 128.661857], radius=su19_b_wd_s/5000,color='white',fill_color='#3186cc').add_to(map_osm) #수성구\n",
    "folium.CircleMarker([35.759767, 128.486344], radius=dal19_b_wd_s/5000,color='black',fill_color='#3186cc').add_to(map_osm) #달성군\n",
    "folium.CircleMarker([35.835756, 128.585926], radius=namgu19_b_wd_s/5000,color='yellow',fill_color='#3186cc').add_to(map_osm) #남구\n",
    "folium.CircleMarker([35.874749, 128.549190], radius=se19_b_wd_s/5000,color='green',fill_color='#3186cc').add_to(map_osm) #서구\n",
    "folium.CircleMarker([35.928377, 128.576568], radius=north19_b_wd_s/5000,color='pink',fill_color='#3186cc').add_to(map_osm) #북구\n",
    "folium.CircleMarker([35.866492, 128.592795], radius=middle19_b_wd_s/5000,color='#3186cc',fill_color='#3186cc').add_to(map_osm) #중구\n",
    "# text = 'your text here'\n",
    "\n",
    "# iframe = folium.IFrame(text, width=700, height=450)\n",
    "\n",
    "# Text = folium.Marker(location=[35.825554,128.60250])\n",
    "# map_osm.add_child(Text)\n",
    "map_osm\n",
    "# map_osm.save('daegubuscorona.html')"
   ]
  },
  {
   "cell_type": "code",
   "execution_count": 15,
   "metadata": {
    "scrolled": true
   },
   "outputs": [],
   "source": [
    "dongu19_before_weekend_arrival_tmp = dongu19.loc[(dongu19.운행일자 >=20190101)&(dongu19.운행일자 <=20190217) & \n",
    "                       ((dongu19.요일구분==1)&(dongu19.요일구분==7))].도착통행인원\n",
    "su19_before_weekend_arrival_tmp = su19.loc[(dongu19.운행일자 >=20190101)&(su19.운행일자 <=20190217) & \n",
    "                       ((su19.요일구분==1)&(su19.요일구분==7))].도착통행인원\n",
    "dal19_before_weekend_arrival_tmp = dal19.loc[(dal19.운행일자 >=20190101)&(dal19.운행일자 <=20190217) & \n",
    "                       ((dal19.요일구분==1)&(dal19.요일구분==7))].도착통행인원\n",
    "dalsu19_before_weekend_arrival_tmp = dalsu19.loc[(dalsu19.운행일자 >=20190101)&(dalsu19.운행일자 <=20190217) & \n",
    "                       ((dalsu19.요일구분==1)&(dalsu19.요일구분==7))].도착통행인원\n",
    "namgu19_before_weekend_arrival_tmp = namgu19.loc[(namgu19.운행일자 >=20190101)&(namgu19.운행일자 <=20190217) & \n",
    "                       ((namgu19.요일구분==1)&(namgu19.요일구분==7))].도착통행인원\n",
    "middle19_before_weekend_arrival_tmp = middle19.loc[(middle19.운행일자 >=20190101)&(middle19.운행일자 <=20190217) & \n",
    "                       ((middle19.요일구분==1)&(middle19.요일구분==7))].도착통행인원\n",
    "north19_before_weekend_arrival_tmp = north19.loc[(north19.운행일자 >=20190101)&(north19.운행일자 <=20190217) & \n",
    "                       ((north19.요일구분==1)&(north19.요일구분==7))].도착통행인원\n",
    "se19_before_weekend_arrival_tmp = se19.loc[(se19.운행일자 >=20190101)&(se19.운행일자 <=20190217) & \n",
    "                       ((se19.요일구분==1)&(se19.요일구분==7))].도착통행인원"
   ]
  },
  {
   "cell_type": "code",
   "execution_count": 16,
   "metadata": {},
   "outputs": [],
   "source": [
    "dal19_b_wd_a = (dalsu19_before_weekday_arrival_tmp/14).sum() #달서구 \n",
    "dongu19_b_wd_a = (dongu19_before_weekday_arrival_tmp/14).sum() #동구\n",
    "su19_b_wd_a = (su19_before_weekday_arrival_tmp/14).sum() #수성군\n",
    "dal19_b_wd_a = (dal19_before_weekday_arrival_tmp/14).sum() #달성군\n",
    "namgu19_b_wd_a = (namgu19_before_weekday_arrival_tmp/14).sum() #남구\n",
    "se19_b_wd_a = (se19_before_weekday_arrival_tmp/14).sum() #서구\n",
    "north19_b_wd_a = (north19_before_weekday_arrival_tmp/14).sum() #북구\n",
    "middle19_b_wd_a = (middle19_before_weekday_arrival_tmp/14).sum() #중구\n"
   ]
  },
  {
   "cell_type": "code",
   "execution_count": 63,
   "metadata": {},
   "outputs": [],
   "source": [
    "#서군구별 주말 190101~190217\n",
    "map_osm = folium.Map(location=[35.87222, 128.60250], zoom_start=11)\n",
    "folium.CircleMarker([35.825554,128.522400], radius=dal19_b_wd_a/5000,color='red',fill_color='#3186cc').add_to(map_osm) #달서구\n",
    "folium.CircleMarker([35.943167, 128.682245], radius=dongu19_b_wd_a/5000,color='blue',fill_color='#3186cc').add_to(map_osm) #동구\n",
    "folium.CircleMarker([35.833766, 128.661857], radius=su19_b_wd_a/5000,color='white',fill_color='#3186cc').add_to(map_osm) #수성구\n",
    "folium.CircleMarker([35.759767, 128.486344], radius=dal19_b_wd_a/5000,color='black',fill_color='#3186cc').add_to(map_osm) #달성군\n",
    "folium.CircleMarker([35.835756, 128.585926], radius=namgu19_b_wd_a/5000,color='yellow',fill_color='#3186cc').add_to(map_osm) #남구\n",
    "folium.CircleMarker([35.874749, 128.549190], radius=se19_b_wd_a/5000,color='green',fill_color='#3186cc').add_to(map_osm) #서구\n",
    "folium.CircleMarker([35.928377, 128.576568], radius=north19_b_wd_a/5000,color='pink',fill_color='#3186cc').add_to(map_osm) #북구\n",
    "folium.CircleMarker([35.866492, 128.592795], radius=middle19_b_wd_a/5000,color='#3186cc',fill_color='#3186cc').add_to(map_osm) #중구\n",
    "# text = 'your text here'\n",
    "\n",
    "# iframe = folium.IFrame(text, width=700, height=450)\n",
    "\n",
    "# Text = folium.Marker(location=[35.825554,128.60250])\n",
    "# map_osm.add_child(Text)\n",
    "map_osm\n",
    "map_osm.save('daegus.html')"
   ]
  },
  {
   "cell_type": "code",
   "execution_count": 19,
   "metadata": {},
   "outputs": [],
   "source": [
    "#서군구별 평일 190218~190406\n",
    "dongu19_after_weekday_arrival_tmp = dongu19.loc[(dongu19.운행일자 >=20190218)&(dongu19.운행일자 <=20190406) & \n",
    "                       ((dongu19.요일구분!=1)&(dongu19.요일구분!=7))].도착통행인원\n",
    "su19_after_weekday_arrival_tmp = su19.loc[(dongu19.운행일자 >=20190218)&(su19.운행일자 <=20190406) & \n",
    "                       ((su19.요일구분!=1)&(su19.요일구분!=7))].도착통행인원\n",
    "dal19_after_weekday_arrival_tmp = dal19.loc[(dal19.운행일자 >=20190218)&(dal19.운행일자 <=20190406) & \n",
    "                       ((dal19.요일구분!=1)&(dal19.요일구분!=7))].도착통행인원\n",
    "dalsu19_after_weekday_arrival_tmp = dalsu19.loc[(dalsu19.운행일자 >=20190218)&(dalsu19.운행일자 <=20190406) & \n",
    "                       ((dalsu19.요일구분!=1)&(dalsu19.요일구분!=7))].도착통행인원\n",
    "namgu19_after_weekday_arrival_tmp = namgu19.loc[(namgu19.운행일자 >=20190218)&(namgu19.운행일자 <=20190406) & \n",
    "                       ((namgu19.요일구분!=1)&(namgu19.요일구분!=7))].도착통행인원\n",
    "middle19_after_weekday_arrival_tmp = middle19.loc[(middle19.운행일자 >=20190218)&(middle19.운행일자 <=20190406) & \n",
    "                       ((middle19.요일구분!=1)&(middle19.요일구분!=7))].도착통행인원\n",
    "north19_after_weekday_arrival_tmp = north19.loc[(north19.운행일자 >=20190218)&(north19.운행일자 <=20190406) & \n",
    "                       ((north19.요일구분!=1)&(north19.요일구분!=7))].도착통행인원\n",
    "se19_after_weekday_arrival_tmp = se19.loc[(se19.운행일자 >=20190218)&(se19.운행일자 <=20190406) & \n",
    "                       ((se19.요일구분!=1)&(se19.요일구분!=7))].도착통행인원"
   ]
  },
  {
   "cell_type": "code",
   "execution_count": 20,
   "metadata": {},
   "outputs": [],
   "source": [
    "dal19_a_w_a = (dalsu19_after_weekday_arrival_tmp/34).sum() #달서구 \n",
    "dongu19_a_w_a = (dongu19_after_weekday_arrival_tmp/34).sum() #동구\n",
    "su19_a_w_a = (su19_after_weekday_arrival_tmp/34).sum() #수성군\n",
    "dal19_a_w_a = (dal19_after_weekday_arrival_tmp/34).sum() #달성군\n",
    "namgu19_a_w_a = (namgu19_after_weekday_arrival_tmp/34).sum() #남구\n",
    "se19_a_w_a = (se19_after_weekday_arrival_tmp/34).sum() #서구\n",
    "north19_a_w_a = (north19_after_weekday_arrival_tmp/34).sum() #북구\n",
    "middle19_a_w_a = (middle19_after_weekday_arrival_tmp/34).sum() #중구"
   ]
  },
  {
   "cell_type": "code",
   "execution_count": 35,
   "metadata": {},
   "outputs": [
    {
     "data": {
      "text/html": [
       "<div style=\"width:100%;\"><div style=\"position:relative;width:100%;height:0;padding-bottom:60%;\"><span style=\"color:#565656\">Make this Notebook Trusted to load map: File -> Trust Notebook</span><iframe src=\"about:blank\" style=\"position:absolute;width:100%;height:100%;left:0;top:0;border:none !important;\" data-html=PCFET0NUWVBFIGh0bWw+CjxoZWFkPiAgICAKICAgIDxtZXRhIGh0dHAtZXF1aXY9ImNvbnRlbnQtdHlwZSIgY29udGVudD0idGV4dC9odG1sOyBjaGFyc2V0PVVURi04IiAvPgogICAgCiAgICAgICAgPHNjcmlwdD4KICAgICAgICAgICAgTF9OT19UT1VDSCA9IGZhbHNlOwogICAgICAgICAgICBMX0RJU0FCTEVfM0QgPSBmYWxzZTsKICAgICAgICA8L3NjcmlwdD4KICAgIAogICAgPHNjcmlwdCBzcmM9Imh0dHBzOi8vY2RuLmpzZGVsaXZyLm5ldC9ucG0vbGVhZmxldEAxLjYuMC9kaXN0L2xlYWZsZXQuanMiPjwvc2NyaXB0PgogICAgPHNjcmlwdCBzcmM9Imh0dHBzOi8vY29kZS5qcXVlcnkuY29tL2pxdWVyeS0xLjEyLjQubWluLmpzIj48L3NjcmlwdD4KICAgIDxzY3JpcHQgc3JjPSJodHRwczovL21heGNkbi5ib290c3RyYXBjZG4uY29tL2Jvb3RzdHJhcC8zLjIuMC9qcy9ib290c3RyYXAubWluLmpzIj48L3NjcmlwdD4KICAgIDxzY3JpcHQgc3JjPSJodHRwczovL2NkbmpzLmNsb3VkZmxhcmUuY29tL2FqYXgvbGlicy9MZWFmbGV0LmF3ZXNvbWUtbWFya2Vycy8yLjAuMi9sZWFmbGV0LmF3ZXNvbWUtbWFya2Vycy5qcyI+PC9zY3JpcHQ+CiAgICA8bGluayByZWw9InN0eWxlc2hlZXQiIGhyZWY9Imh0dHBzOi8vY2RuLmpzZGVsaXZyLm5ldC9ucG0vbGVhZmxldEAxLjYuMC9kaXN0L2xlYWZsZXQuY3NzIi8+CiAgICA8bGluayByZWw9InN0eWxlc2hlZXQiIGhyZWY9Imh0dHBzOi8vbWF4Y2RuLmJvb3RzdHJhcGNkbi5jb20vYm9vdHN0cmFwLzMuMi4wL2Nzcy9ib290c3RyYXAubWluLmNzcyIvPgogICAgPGxpbmsgcmVsPSJzdHlsZXNoZWV0IiBocmVmPSJodHRwczovL21heGNkbi5ib290c3RyYXBjZG4uY29tL2Jvb3RzdHJhcC8zLjIuMC9jc3MvYm9vdHN0cmFwLXRoZW1lLm1pbi5jc3MiLz4KICAgIDxsaW5rIHJlbD0ic3R5bGVzaGVldCIgaHJlZj0iaHR0cHM6Ly9tYXhjZG4uYm9vdHN0cmFwY2RuLmNvbS9mb250LWF3ZXNvbWUvNC42LjMvY3NzL2ZvbnQtYXdlc29tZS5taW4uY3NzIi8+CiAgICA8bGluayByZWw9InN0eWxlc2hlZXQiIGhyZWY9Imh0dHBzOi8vY2RuanMuY2xvdWRmbGFyZS5jb20vYWpheC9saWJzL0xlYWZsZXQuYXdlc29tZS1tYXJrZXJzLzIuMC4yL2xlYWZsZXQuYXdlc29tZS1tYXJrZXJzLmNzcyIvPgogICAgPGxpbmsgcmVsPSJzdHlsZXNoZWV0IiBocmVmPSJodHRwczovL3Jhd2Nkbi5naXRoYWNrLmNvbS9weXRob24tdmlzdWFsaXphdGlvbi9mb2xpdW0vbWFzdGVyL2ZvbGl1bS90ZW1wbGF0ZXMvbGVhZmxldC5hd2Vzb21lLnJvdGF0ZS5jc3MiLz4KICAgIDxzdHlsZT5odG1sLCBib2R5IHt3aWR0aDogMTAwJTtoZWlnaHQ6IDEwMCU7bWFyZ2luOiAwO3BhZGRpbmc6IDA7fTwvc3R5bGU+CiAgICA8c3R5bGU+I21hcCB7cG9zaXRpb246YWJzb2x1dGU7dG9wOjA7Ym90dG9tOjA7cmlnaHQ6MDtsZWZ0OjA7fTwvc3R5bGU+CiAgICAKICAgICAgICAgICAgPG1ldGEgbmFtZT0idmlld3BvcnQiIGNvbnRlbnQ9IndpZHRoPWRldmljZS13aWR0aCwKICAgICAgICAgICAgICAgIGluaXRpYWwtc2NhbGU9MS4wLCBtYXhpbXVtLXNjYWxlPTEuMCwgdXNlci1zY2FsYWJsZT1ubyIgLz4KICAgICAgICAgICAgPHN0eWxlPgogICAgICAgICAgICAgICAgI21hcF83OGZlODA4ZjdjMjI0MmQ5YjIyMzE5YjgyOWY3ODFkMSB7CiAgICAgICAgICAgICAgICAgICAgcG9zaXRpb246IHJlbGF0aXZlOwogICAgICAgICAgICAgICAgICAgIHdpZHRoOiAxMDAuMCU7CiAgICAgICAgICAgICAgICAgICAgaGVpZ2h0OiAxMDAuMCU7CiAgICAgICAgICAgICAgICAgICAgbGVmdDogMC4wJTsKICAgICAgICAgICAgICAgICAgICB0b3A6IDAuMCU7CiAgICAgICAgICAgICAgICB9CiAgICAgICAgICAgIDwvc3R5bGU+CiAgICAgICAgCjwvaGVhZD4KPGJvZHk+ICAgIAogICAgCiAgICAgICAgICAgIDxkaXYgY2xhc3M9ImZvbGl1bS1tYXAiIGlkPSJtYXBfNzhmZTgwOGY3YzIyNDJkOWIyMjMxOWI4MjlmNzgxZDEiID48L2Rpdj4KICAgICAgICAKPC9ib2R5Pgo8c2NyaXB0PiAgICAKICAgIAogICAgICAgICAgICB2YXIgbWFwXzc4ZmU4MDhmN2MyMjQyZDliMjIzMTliODI5Zjc4MWQxID0gTC5tYXAoCiAgICAgICAgICAgICAgICAibWFwXzc4ZmU4MDhmN2MyMjQyZDliMjIzMTliODI5Zjc4MWQxIiwKICAgICAgICAgICAgICAgIHsKICAgICAgICAgICAgICAgICAgICBjZW50ZXI6IFszNS44NzIyMiwgMTI4LjYwMjVdLAogICAgICAgICAgICAgICAgICAgIGNyczogTC5DUlMuRVBTRzM4NTcsCiAgICAgICAgICAgICAgICAgICAgem9vbTogMTEsCiAgICAgICAgICAgICAgICAgICAgem9vbUNvbnRyb2w6IHRydWUsCiAgICAgICAgICAgICAgICAgICAgcHJlZmVyQ2FudmFzOiBmYWxzZSwKICAgICAgICAgICAgICAgIH0KICAgICAgICAgICAgKTsKCiAgICAgICAgICAgIAoKICAgICAgICAKICAgIAogICAgICAgICAgICB2YXIgdGlsZV9sYXllcl9iOTkwNWQ4ZDI1M2U0NzUzOTRhYjFiYmNiOTg3Y2NiMCA9IEwudGlsZUxheWVyKAogICAgICAgICAgICAgICAgImh0dHBzOi8ve3N9LnRpbGUub3BlbnN0cmVldG1hcC5vcmcve3p9L3t4fS97eX0ucG5nIiwKICAgICAgICAgICAgICAgIHsiYXR0cmlidXRpb24iOiAiRGF0YSBieSBcdTAwMjZjb3B5OyBcdTAwM2NhIGhyZWY9XCJodHRwOi8vb3BlbnN0cmVldG1hcC5vcmdcIlx1MDAzZU9wZW5TdHJlZXRNYXBcdTAwM2MvYVx1MDAzZSwgdW5kZXIgXHUwMDNjYSBocmVmPVwiaHR0cDovL3d3dy5vcGVuc3RyZWV0bWFwLm9yZy9jb3B5cmlnaHRcIlx1MDAzZU9EYkxcdTAwM2MvYVx1MDAzZS4iLCAiZGV0ZWN0UmV0aW5hIjogZmFsc2UsICJtYXhOYXRpdmVab29tIjogMTgsICJtYXhab29tIjogMTgsICJtaW5ab29tIjogMCwgIm5vV3JhcCI6IGZhbHNlLCAib3BhY2l0eSI6IDEsICJzdWJkb21haW5zIjogImFiYyIsICJ0bXMiOiBmYWxzZX0KICAgICAgICAgICAgKS5hZGRUbyhtYXBfNzhmZTgwOGY3YzIyNDJkOWIyMjMxOWI4MjlmNzgxZDEpOwogICAgICAgIAogICAgCiAgICAgICAgICAgIHZhciBjaXJjbGVfbWFya2VyXzY2NTE1NjdlZjY3OTRmZTI4MGExZTcxZDQ3ZTgzYWQzID0gTC5jaXJjbGVNYXJrZXIoCiAgICAgICAgICAgICAgICBbMzUuODI1NTU0LCAxMjguNTIyNF0sCiAgICAgICAgICAgICAgICB7ImJ1YmJsaW5nTW91c2VFdmVudHMiOiB0cnVlLCAiY29sb3IiOiAicmVkIiwgImRhc2hBcnJheSI6IG51bGwsICJkYXNoT2Zmc2V0IjogbnVsbCwgImZpbGwiOiB0cnVlLCAiZmlsbENvbG9yIjogIiMzMTg2Y2MiLCAiZmlsbE9wYWNpdHkiOiAwLjIsICJmaWxsUnVsZSI6ICJldmVub2RkIiwgImxpbmVDYXAiOiAicm91bmQiLCAibGluZUpvaW4iOiAicm91bmQiLCAib3BhY2l0eSI6IDEuMCwgInJhZGl1cyI6IDUuNDg1NzY0NzA1ODgyMzUzLCAic3Ryb2tlIjogdHJ1ZSwgIndlaWdodCI6IDN9CiAgICAgICAgICAgICkuYWRkVG8obWFwXzc4ZmU4MDhmN2MyMjQyZDliMjIzMTliODI5Zjc4MWQxKTsKICAgICAgICAKICAgIAogICAgICAgICAgICB2YXIgY2lyY2xlX21hcmtlcl82NjIyYTE4MzQ4ZTU0YWEyODQxY2RmZGNjMDMwNTRkMyA9IEwuY2lyY2xlTWFya2VyKAogICAgICAgICAgICAgICAgWzM1Ljk0MzE2NywgMTI4LjY4MjI0NV0sCiAgICAgICAgICAgICAgICB7ImJ1YmJsaW5nTW91c2VFdmVudHMiOiB0cnVlLCAiY29sb3IiOiAiYmx1ZSIsICJkYXNoQXJyYXkiOiBudWxsLCAiZGFzaE9mZnNldCI6IG51bGwsICJmaWxsIjogdHJ1ZSwgImZpbGxDb2xvciI6ICIjMzE4NmNjIiwgImZpbGxPcGFjaXR5IjogMC4yLCAiZmlsbFJ1bGUiOiAiZXZlbm9kZCIsICJsaW5lQ2FwIjogInJvdW5kIiwgImxpbmVKb2luIjogInJvdW5kIiwgIm9wYWNpdHkiOiAxLjAsICJyYWRpdXMiOiAyMC41Mjk1ODIzNTI5NDExNzYsICJzdHJva2UiOiB0cnVlLCAid2VpZ2h0IjogM30KICAgICAgICAgICAgKS5hZGRUbyhtYXBfNzhmZTgwOGY3YzIyNDJkOWIyMjMxOWI4MjlmNzgxZDEpOwogICAgICAgIAogICAgCiAgICAgICAgICAgIHZhciBjaXJjbGVfbWFya2VyX2RmYTA4NmM1MWFhNjRhY2Q4Nzk2NTg3YjdmNDdlOTQyID0gTC5jaXJjbGVNYXJrZXIoCiAgICAgICAgICAgICAgICBbMzUuODMzNzY2LCAxMjguNjYxODU3XSwKICAgICAgICAgICAgICAgIHsiYnViYmxpbmdNb3VzZUV2ZW50cyI6IHRydWUsICJjb2xvciI6ICJ3aGl0ZSIsICJkYXNoQXJyYXkiOiBudWxsLCAiZGFzaE9mZnNldCI6IG51bGwsICJmaWxsIjogdHJ1ZSwgImZpbGxDb2xvciI6ICIjMzE4NmNjIiwgImZpbGxPcGFjaXR5IjogMC4yLCAiZmlsbFJ1bGUiOiAiZXZlbm9kZCIsICJsaW5lQ2FwIjogInJvdW5kIiwgImxpbmVKb2luIjogInJvdW5kIiwgIm9wYWNpdHkiOiAxLjAsICJzdHJva2UiOiB0cnVlLCAid2VpZ2h0IjogM30KICAgICAgICAgICAgKS5hZGRUbyhtYXBfNzhmZTgwOGY3YzIyNDJkOWIyMjMxOWI4MjlmNzgxZDEpOwogICAgICAgIAogICAgCiAgICAgICAgICAgIHZhciBjaXJjbGVfbWFya2VyX2M0NTIzNWRhMjc1YTQwODU4MzQ3YmQzNTI2NDhiZTMwID0gTC5jaXJjbGVNYXJrZXIoCiAgICAgICAgICAgICAgICBbMzUuNzU5NzY3LCAxMjguNDg2MzQ0XSwKICAgICAgICAgICAgICAgIHsiYnViYmxpbmdNb3VzZUV2ZW50cyI6IHRydWUsICJjb2xvciI6ICJibGFjayIsICJkYXNoQXJyYXkiOiBudWxsLCAiZGFzaE9mZnNldCI6IG51bGwsICJmaWxsIjogdHJ1ZSwgImZpbGxDb2xvciI6ICIjMzE4NmNjIiwgImZpbGxPcGFjaXR5IjogMC4yLCAiZmlsbFJ1bGUiOiAiZXZlbm9kZCIsICJsaW5lQ2FwIjogInJvdW5kIiwgImxpbmVKb2luIjogInJvdW5kIiwgIm9wYWNpdHkiOiAxLjAsICJyYWRpdXMiOiA1LjQ4NTc2NDcwNTg4MjM1MywgInN0cm9rZSI6IHRydWUsICJ3ZWlnaHQiOiAzfQogICAgICAgICAgICApLmFkZFRvKG1hcF83OGZlODA4ZjdjMjI0MmQ5YjIyMzE5YjgyOWY3ODFkMSk7CiAgICAgICAgCiAgICAKICAgICAgICAgICAgdmFyIGNpcmNsZV9tYXJrZXJfNmNiNmM4ZjZkYWNlNGRiNWIzNDg3OTYzMWYyYWE5ZDYgPSBMLmNpcmNsZU1hcmtlcigKICAgICAgICAgICAgICAgIFszNS44MzU3NTYsIDEyOC41ODU5MjZdLAogICAgICAgICAgICAgICAgeyJidWJibGluZ01vdXNlRXZlbnRzIjogdHJ1ZSwgImNvbG9yIjogInllbGxvdyIsICJkYXNoQXJyYXkiOiBudWxsLCAiZGFzaE9mZnNldCI6IG51bGwsICJmaWxsIjogdHJ1ZSwgImZpbGxDb2xvciI6ICIjMzE4NmNjIiwgImZpbGxPcGFjaXR5IjogMC4yLCAiZmlsbFJ1bGUiOiAiZXZlbm9kZCIsICJsaW5lQ2FwIjogInJvdW5kIiwgImxpbmVKb2luIjogInJvdW5kIiwgIm9wYWNpdHkiOiAxLjAsICJyYWRpdXMiOiAxMC4yOTM2MzUyOTQxMTc2NDgsICJzdHJva2UiOiB0cnVlLCAid2VpZ2h0IjogM30KICAgICAgICAgICAgKS5hZGRUbyhtYXBfNzhmZTgwOGY3YzIyNDJkOWIyMjMxOWI4MjlmNzgxZDEpOwogICAgICAgIAogICAgCiAgICAgICAgICAgIHZhciBjaXJjbGVfbWFya2VyXzM1OWFjMTFkODFiODQxYjVhMjc1OTg1NmViMDhhZGJkID0gTC5jaXJjbGVNYXJrZXIoCiAgICAgICAgICAgICAgICBbMzUuODc0NzQ5LCAxMjguNTQ5MTldLAogICAgICAgICAgICAgICAgeyJidWJibGluZ01vdXNlRXZlbnRzIjogdHJ1ZSwgImNvbG9yIjogImdyZWVuIiwgImRhc2hBcnJheSI6IG51bGwsICJkYXNoT2Zmc2V0IjogbnVsbCwgImZpbGwiOiB0cnVlLCAiZmlsbENvbG9yIjogIiMzMTg2Y2MiLCAiZmlsbE9wYWNpdHkiOiAwLjIsICJmaWxsUnVsZSI6ICJldmVub2RkIiwgImxpbmVDYXAiOiAicm91bmQiLCAibGluZUpvaW4iOiAicm91bmQiLCAib3BhY2l0eSI6IDEuMCwgInJhZGl1cyI6IDcuNzQzNjU4ODIzNTI5NDEzLCAic3Ryb2tlIjogdHJ1ZSwgIndlaWdodCI6IDN9CiAgICAgICAgICAgICkuYWRkVG8obWFwXzc4ZmU4MDhmN2MyMjQyZDliMjIzMTliODI5Zjc4MWQxKTsKICAgICAgICAKICAgIAogICAgICAgICAgICB2YXIgY2lyY2xlX21hcmtlcl85NWU2MzIxZmZmMTI0YzE3ODFkMjVmOWY5Mzk3YzczNSA9IEwuY2lyY2xlTWFya2VyKAogICAgICAgICAgICAgICAgWzM1LjkyODM3NywgMTI4LjU3NjU2OF0sCiAgICAgICAgICAgICAgICB7ImJ1YmJsaW5nTW91c2VFdmVudHMiOiB0cnVlLCAiY29sb3IiOiAicGluayIsICJkYXNoQXJyYXkiOiBudWxsLCAiZGFzaE9mZnNldCI6IG51bGwsICJmaWxsIjogdHJ1ZSwgImZpbGxDb2xvciI6ICIjMzE4NmNjIiwgImZpbGxPcGFjaXR5IjogMC4yLCAiZmlsbFJ1bGUiOiAiZXZlbm9kZCIsICJsaW5lQ2FwIjogInJvdW5kIiwgImxpbmVKb2luIjogInJvdW5kIiwgIm9wYWNpdHkiOiAxLjAsICJyYWRpdXMiOiAxMi41NTk4NzY0NzA1ODgyMzQsICJzdHJva2UiOiB0cnVlLCAid2VpZ2h0IjogM30KICAgICAgICAgICAgKS5hZGRUbyhtYXBfNzhmZTgwOGY3YzIyNDJkOWIyMjMxOWI4MjlmNzgxZDEpOwogICAgICAgIAogICAgCiAgICAgICAgICAgIHZhciBjaXJjbGVfbWFya2VyXzkzYWQzMzVkYTE4ODQwYmY5NzUyYTJiMTIxMmY1ODY1ID0gTC5jaXJjbGVNYXJrZXIoCiAgICAgICAgICAgICAgICBbMzUuODY2NDkyLCAxMjguNTkyNzk1XSwKICAgICAgICAgICAgICAgIHsiYnViYmxpbmdNb3VzZUV2ZW50cyI6IHRydWUsICJjb2xvciI6ICIjMzE4NmNjIiwgImRhc2hBcnJheSI6IG51bGwsICJkYXNoT2Zmc2V0IjogbnVsbCwgImZpbGwiOiB0cnVlLCAiZmlsbENvbG9yIjogIiMzMTg2Y2MiLCAiZmlsbE9wYWNpdHkiOiAwLjIsICJmaWxsUnVsZSI6ICJldmVub2RkIiwgImxpbmVDYXAiOiAicm91bmQiLCAibGluZUpvaW4iOiAicm91bmQiLCAib3BhY2l0eSI6IDEuMCwgInJhZGl1cyI6IDIyLjQ1NjY4MjM1Mjk0MTE4LCAic3Ryb2tlIjogdHJ1ZSwgIndlaWdodCI6IDN9CiAgICAgICAgICAgICkuYWRkVG8obWFwXzc4ZmU4MDhmN2MyMjQyZDliMjIzMTliODI5Zjc4MWQxKTsKICAgICAgICAKPC9zY3JpcHQ+ onload=\"this.contentDocument.open();this.contentDocument.write(atob(this.getAttribute('data-html')));this.contentDocument.close();\" allowfullscreen webkitallowfullscreen mozallowfullscreen></iframe></div></div>"
      ],
      "text/plain": [
       "<folium.folium.Map at 0x255a067d940>"
      ]
     },
     "execution_count": 35,
     "metadata": {},
     "output_type": "execute_result"
    }
   ],
   "source": [
    "#서군구별 평일 190218~190406\n",
    "map_osm = folium.Map(location=[35.87222, 128.60250], zoom_start=11)\n",
    "folium.CircleMarker([35.825554,128.522400], radius=dal19_a_w_a/5000,color='red',fill_color='#3186cc').add_to(map_osm) #달서구\n",
    "folium.CircleMarker([35.943167, 128.682245], radius=dongu19_a_w_a/5000,color='blue',fill_color='#3186cc').add_to(map_osm) #동구\n",
    "folium.CircleMarker([35.833766, 128.661857], radius=su19_a_w_a/5000,color='white',fill_color='#3186cc').add_to(map_osm) #수성구\n",
    "folium.CircleMarker([35.759767, 128.486344], radius=dal19_a_w_a/5000,color='black',fill_color='#3186cc').add_to(map_osm) #달성군\n",
    "folium.CircleMarker([35.835756, 128.585926], radius=namgu19_a_w_a/5000,color='yellow',fill_color='#3186cc').add_to(map_osm) #남구\n",
    "folium.CircleMarker([35.874749, 128.549190], radius=se19_a_w_a/5000,color='green',fill_color='#3186cc').add_to(map_osm) #서구\n",
    "folium.CircleMarker([35.928377, 128.576568], radius=north19_a_w_a/5000,color='pink',fill_color='#3186cc').add_to(map_osm) #북구\n",
    "folium.CircleMarker([35.866492, 128.592795], radius=middle19_a_w_a/5000,color='#3186cc',fill_color='#3186cc').add_to(map_osm) #중구\n",
    "# text = 'your text here'\n",
    "\n",
    "# iframe = folium.IFrame(text, width=700, height=450)\n",
    "\n",
    "# Text = folium.Marker(location=[35.825554,128.60250])\n",
    "# map_osm.add_child(Text)\n",
    "map_osm\n",
    "# map_osm.save('daegubuscorona.html')"
   ]
  },
  {
   "cell_type": "code",
   "execution_count": 22,
   "metadata": {},
   "outputs": [],
   "source": [
    "#서군구별 주말 190218~190406\n",
    "dongu19_after_weekend_arrival_tmp = dongu19.loc[(dongu19.운행일자 >=20190218)&(dongu19.운행일자 <=20190406) & \n",
    "                       ((dongu19.요일구분==1)&(dongu19.요일구분==7))].도착통행인원\n",
    "su19_after_weekend_arrival_tmp = su19.loc[(dongu19.운행일자 >=20190218)&(su19.운행일자 <=20190406) & \n",
    "                       ((su19.요일구분==1)&(su19.요일구분==7))].도착통행인원\n",
    "dal19_after_weekend_arrival_tmp = dal19.loc[(dal19.운행일자 >=20190218)&(dal19.운행일자 <=20190406) & \n",
    "                       ((dal19.요일구분==1)&(dal19.요일구분==7))].도착통행인원\n",
    "dalsu19_after_weekend_arrival_tmp = dalsu19.loc[(dalsu19.운행일자 >=20190218)&(dalsu19.운행일자 <=20190406) & \n",
    "                       ((dalsu19.요일구분==1)&(dalsu19.요일구분==7))].도착통행인원\n",
    "namgu19_after_weekend_arrival_tmp = namgu19.loc[(namgu19.운행일자 >=20190218)&(namgu19.운행일자 <=20190406) & \n",
    "                       ((namgu19.요일구분==1)&(namgu19.요일구분==7))].도착통행인원\n",
    "middle19_after_weekend_arrival_tmp = middle19.loc[(middle19.운행일자 >=20190218)&(middle19.운행일자 <=20190406) & \n",
    "                       ((middle19.요일구분==1)&(middle19.요일구분==7))].도착통행인원\n",
    "north19_after_weekend_arrival_tmp = north19.loc[(north19.운행일자 >=20190218)&(north19.운행일자 <=20190406) & \n",
    "                       ((north19.요일구분==1)&(north19.요일구분==7))].도착통행인원\n",
    "se19_after_weekend_arrival_tmp = se19.loc[(se19.운행일자 >=20190218)&(se19.운행일자 <=20190406) & \n",
    "                       ((se19.요일구분==1)&(se19.요일구분==7))].도착통행인원"
   ]
  },
  {
   "cell_type": "code",
   "execution_count": 25,
   "metadata": {},
   "outputs": [],
   "source": [
    "dalsu19_a_wd_a = (dalsu19_after_weekend_arrival_tmp/13).sum() #달서구 \n",
    "dongu19_a_wd_a = (dongu19_after_weekend_arrival_tmp/13).sum() #동구\n",
    "su19_a_wd_a = (su19_after_weekend_arrival_tmp/13).sum() #수성군\n",
    "dal19_a_wd_a = (dal19_after_weekend_arrival_tmp/13).sum() #달성군\n",
    "namgu19_a_wd_a = (namgu19_after_weekend_arrival_tmp/13).sum() #남구\n",
    "se19_a_wd_a = (se19_after_weekend_arrival_tmp/13).sum() #서구\n",
    "north19_a_wd_a = (north19_after_weekend_arrival_tmp/13).sum() #북구\n",
    "middle19_a_wd_a = (middle19_after_weekend_arrival_tmp/13).sum() #중구"
   ]
  },
  {
   "cell_type": "code",
   "execution_count": 39,
   "metadata": {
    "scrolled": true
   },
   "outputs": [
    {
     "data": {
      "text/html": [
       "<div style=\"width:100%;\"><div style=\"position:relative;width:100%;height:0;padding-bottom:60%;\"><span style=\"color:#565656\">Make this Notebook Trusted to load map: File -> Trust Notebook</span><iframe src=\"about:blank\" style=\"position:absolute;width:100%;height:100%;left:0;top:0;border:none !important;\" data-html=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 onload=\"this.contentDocument.open();this.contentDocument.write(atob(this.getAttribute('data-html')));this.contentDocument.close();\" allowfullscreen webkitallowfullscreen mozallowfullscreen></iframe></div></div>"
      ],
      "text/plain": [
       "<folium.folium.Map at 0x2559e61db00>"
      ]
     },
     "execution_count": 39,
     "metadata": {},
     "output_type": "execute_result"
    }
   ],
   "source": [
    "#서군구별 주말 190218~190406\n",
    "map_osm = folium.Map(location=[35.87222, 128.60250], zoom_start=11)\n",
    "folium.CircleMarker([35.825554,128.522400], radius=dalsu19_a_wd_a/5000,color='red',fill_color='#3186cc').add_to(map_osm) #달서구\n",
    "folium.CircleMarker([35.943167, 128.682245], radius=dongu19_a_wd_a/5000,color='blue',fill_color='#3186cc').add_to(map_osm) #동구\n",
    "folium.CircleMarker([35.833766, 128.661857], radius=su19_a_wd_a/5000,color='white',fill_color='#3186cc').add_to(map_osm) #수성구\n",
    "folium.CircleMarker([35.759767, 128.486344], radius=dal19_a_wd_a/5000,color='black',fill_color='#3186cc').add_to(map_osm) #달성군\n",
    "folium.CircleMarker([35.835756, 128.585926], radius=namgu19_a_wd_a/5000,color='yellow',fill_color='#3186cc').add_to(map_osm) #남구\n",
    "folium.CircleMarker([35.874749, 128.549190], radius=se19_a_wd_a/5000,color='green',fill_color='#3186cc').add_to(map_osm) #서구\n",
    "folium.CircleMarker([35.928377, 128.576568], radius=north19_a_wd_a/5000,color='pink',fill_color='#3186cc').add_to(map_osm) #북구\n",
    "folium.CircleMarker([35.866492, 128.592795], radius=middle19_a_wd_a/5000,color='#3186cc',fill_color='#3186cc').add_to(map_osm) #중구\n",
    "# text = 'your text here'\n",
    "\n",
    "# iframe = folium.IFrame(text, width=700, height=450)\n",
    "\n",
    "# Text = folium.Marker(location=[35.825554,128.60250])\n",
    "# map_osm.add_child(Text)\n",
    "map_osm\n",
    "# map_osm.save('daegubuscorona.html')"
   ]
  },
  {
   "cell_type": "code",
   "execution_count": 29,
   "metadata": {
    "scrolled": true
   },
   "outputs": [],
   "source": [
    "#서군구별 평일 200101~200217\n",
    "dongu20_before_weekday_arrival_tmp = dongu20.loc[(dongu20.운행일자 >=20200101)&(dongu20.운행일자 <=20200217) & \n",
    "                       ((dongu20.요일구분!=1)&(dongu20.요일구분!=7))].도착통행인원\n",
    "su20_before_weekday_arrival_tmp = su20.loc[(dongu20.운행일자 >=20200101)&(su20.운행일자 <=20200217) & \n",
    "                       ((su20.요일구분!=1)&(su20.요일구분!=7))].도착통행인원\n",
    "dal20_before_weekday_arrival_tmp = dal20.loc[(dal20.운행일자 >=20200101)&(dal19.운행일자 <=2020217) & \n",
    "                       ((dal20.요일구분!=1)&(dal20.요일구분!=7))].도착통행인원\n",
    "dalsu20_before_weekday_arrival_tmp = dalsu20.loc[(dalsu20.운행일자 >=20200101)&(dalsu20.운행일자 <=20200217) & \n",
    "                       ((dalsu20.요일구분!=1)&(dalsu20.요일구분!=7))].도착통행인원\n",
    "namgu20_before_weekday_arrival_tmp = namgu20.loc[(namgu20.운행일자 >=20200101)&(namgu19.운행일자 <=20200217) & \n",
    "                       ((namgu20.요일구분!=1)&(namgu19.요일구분!=7))].도착통행인원\n",
    "middle20_before_weekday_arrival_tmp = middle20.loc[(middle20.운행일자 >=20200101)&(middle19.운행일자 <=20200217) & \n",
    "                       ((middle20.요일구분!=1)&(middle20.요일구분!=7))].도착통행인원\n",
    "north20_before_weekday_arrival_tmp = north20.loc[(north19.운행일자 >=20200101)&(north19.운행일자 <=20200217) & \n",
    "                       ((north20.요일구분!=1)&(north20.요일구분!=7))].도착통행인원\n",
    "se20_before_weekday_arrival_tmp = se20.loc[(se20.운행일자 >=20200101)&(se19.운행일자 <=20200217) & \n",
    "                       ((se20.요일구분!=1)&(se20.요일구분!=7))].도착통행인원"
   ]
  },
  {
   "cell_type": "code",
   "execution_count": 31,
   "metadata": {},
   "outputs": [],
   "source": [
    "dalsu20_b_w_a = (dalsu20_before_weekday_arrival_tmp/34).sum() #달서구 \n",
    "dongu20_b_w_a = (dongu20_before_weekday_arrival_tmp/34).sum() #동구\n",
    "su20_b_w_a = (su20_before_weekday_arrival_tmp/34).sum() #수성군\n",
    "dal20_b_w_a = (dal20_before_weekday_arrival_tmp/34).sum() #달성군\n",
    "namgu20_b_w_a = (namgu20_before_weekday_arrival_tmp/34).sum() #남구\n",
    "se20_b_w_a = (se20_before_weekday_arrival_tmp/34).sum() #서구\n",
    "north20_b_w_a = (north20_before_weekday_arrival_tmp/34).sum() #북구\n",
    "middle20_b_w_a = (middle20_before_weekday_arrival_tmp/34).sum() #중구"
   ]
  },
  {
   "cell_type": "code",
   "execution_count": 38,
   "metadata": {},
   "outputs": [
    {
     "data": {
      "text/html": [
       "<div style=\"width:100%;\"><div style=\"position:relative;width:100%;height:0;padding-bottom:60%;\"><span style=\"color:#565656\">Make this Notebook Trusted to load map: File -> Trust Notebook</span><iframe src=\"about:blank\" style=\"position:absolute;width:100%;height:100%;left:0;top:0;border:none !important;\" data-html=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 onload=\"this.contentDocument.open();this.contentDocument.write(atob(this.getAttribute('data-html')));this.contentDocument.close();\" allowfullscreen webkitallowfullscreen mozallowfullscreen></iframe></div></div>"
      ],
      "text/plain": [
       "<folium.folium.Map at 0x255a16b8828>"
      ]
     },
     "execution_count": 38,
     "metadata": {},
     "output_type": "execute_result"
    }
   ],
   "source": [
    "#서군구별 평일 200101~200217\n",
    "map_osm = folium.Map(location=[35.87222, 128.60250], zoom_start=11)\n",
    "folium.CircleMarker([35.825554,128.522400], radius=dalsu20_b_w_a/5000,color='red',fill_color='#3186cc').add_to(map_osm) #달서구\n",
    "folium.CircleMarker([35.943167, 128.682245], radius=dongu20_b_w_a/5000,color='blue',fill_color='#3186cc').add_to(map_osm) #동구\n",
    "folium.CircleMarker([35.833766, 128.661857], radius=su20_b_w_a/5000,color='white',fill_color='#3186cc').add_to(map_osm) #수성구\n",
    "folium.CircleMarker([35.759767, 128.486344], radius=dal20_b_w_a/5000,color='black',fill_color='#3186cc').add_to(map_osm) #달성군\n",
    "folium.CircleMarker([35.835756, 128.585926], radius=namgu20_b_w_a/5000,color='yellow',fill_color='#3186cc').add_to(map_osm) #남구\n",
    "folium.CircleMarker([35.874749, 128.549190], radius=se20_b_w_a/5000,color='green',fill_color='#3186cc').add_to(map_osm) #서구\n",
    "folium.CircleMarker([35.928377, 128.576568], radius=north20_b_w_a/5000,color='pink',fill_color='#3186cc').add_to(map_osm) #북구\n",
    "folium.CircleMarker([35.866492, 128.592795], radius=middle20_b_w_a/5000,color='#3186cc',fill_color='#3186cc').add_to(map_osm) #중구\n",
    "# text = 'your text here'\n",
    "\n",
    "# iframe = folium.IFrame(text, width=700, height=450)\n",
    "\n",
    "# Text = folium.Marker(location=[35.825554,128.60250])\n",
    "# map_osm.add_child(Text)\n",
    "map_osm\n",
    "# map_osm.save('daegubuscorona.html')"
   ]
  },
  {
   "cell_type": "code",
   "execution_count": 36,
   "metadata": {},
   "outputs": [],
   "source": [
    "#서군구별 주말 200101~200217\n",
    "dongu20_before_weekend_arrival_tmp = dongu20.loc[(dongu20.운행일자 >=20200101)&(dongu20.운행일자 <=20200217) & \n",
    "                       ((dongu20.요일구분==1)&(dongu20.요일구분==7))].도착통행인원\n",
    "su20_before_weekend_arrival_tmp = su20.loc[(dongu20.운행일자 >=20200101)&(su20.운행일자 <=20200217) & \n",
    "                       ((su20.요일구분==1)&(su20.요일구분==7))].도착통행인원\n",
    "dal20_before_weekend_arrival_tmp = dal20.loc[(dal20.운행일자 >=20200101)&(dal19.운행일자 <=2020217) & \n",
    "                       ((dal20.요일구분==1)&(dal20.요일구분==7))].도착통행인원\n",
    "dalsu20_before_weekend_arrival_tmp = dalsu20.loc[(dalsu20.운행일자 >=20200101)&(dalsu20.운행일자 <=20200217) & \n",
    "                       ((dalsu20.요일구분==1)&(dalsu20.요일구분==7))].도착통행인원\n",
    "namgu20_before_weekend_arrival_tmp = namgu20.loc[(namgu20.운행일자 >=20200101)&(namgu19.운행일자 <=20200217) & \n",
    "                       ((namgu20.요일구분==1)&(namgu19.요일구분==7))].도착통행인원\n",
    "middle20_before_weekend_arrival_tmp = middle20.loc[(middle20.운행일자 >=20200101)&(middle19.운행일자 <=20200217) & \n",
    "                       ((middle20.요일구분==1)&(middle20.요일구분==7))].도착통행인원\n",
    "north20_before_weekend_arrival_tmp = north20.loc[(north19.운행일자 >=20200101)&(north19.운행일자 <=20200217) & \n",
    "                       ((north20.요일구분==1)&(north20.요일구분==7))].도착통행인원\n",
    "se20_before_weekend_arrival_tmp = se20.loc[(se20.운행일자 >=20200101)&(se19.운행일자 <=20200217) & \n",
    "                       ((se20.요일구분==1)&(se20.요일구분==7))].도착통행인원"
   ]
  },
  {
   "cell_type": "code",
   "execution_count": 40,
   "metadata": {},
   "outputs": [],
   "source": [
    "dalsu20_b_wd_a = (dalsu20_before_weekend_arrival_tmp/14).sum() #달서구 \n",
    "dongu20_b_wd_a = (dongu20_before_weekend_arrival_tmp/14).sum() #동구\n",
    "su20_b_wd_a = (su20_before_weekend_arrival_tmp/14).sum() #수성군\n",
    "dal20_b_wd_a = (dal20_before_weekend_arrival_tmp/14).sum() #달성군\n",
    "namgu20_b_wd_a = (namgu20_before_weekend_arrival_tmp/14).sum() #남구\n",
    "se20_b_wd_a = (se20_before_weekend_arrival_tmp/14).sum() #서구\n",
    "north20_b_wd_a = (north20_before_weekend_arrival_tmp/14).sum() #북구\n",
    "middle20_b_wd_a = (middle20_before_weekend_arrival_tmp/14).sum() #중구"
   ]
  },
  {
   "cell_type": "code",
   "execution_count": 41,
   "metadata": {},
   "outputs": [
    {
     "data": {
      "text/html": [
       "<div style=\"width:100%;\"><div style=\"position:relative;width:100%;height:0;padding-bottom:60%;\"><span style=\"color:#565656\">Make this Notebook Trusted to load map: File -> Trust Notebook</span><iframe src=\"about:blank\" style=\"position:absolute;width:100%;height:100%;left:0;top:0;border:none !important;\" data-html=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 onload=\"this.contentDocument.open();this.contentDocument.write(atob(this.getAttribute('data-html')));this.contentDocument.close();\" allowfullscreen webkitallowfullscreen mozallowfullscreen></iframe></div></div>"
      ],
      "text/plain": [
       "<folium.folium.Map at 0x2559e614f28>"
      ]
     },
     "execution_count": 41,
     "metadata": {},
     "output_type": "execute_result"
    }
   ],
   "source": [
    "#서군구별 평일 200101~200217\n",
    "map_osm = folium.Map(location=[35.87222, 128.60250], zoom_start=11)\n",
    "folium.CircleMarker([35.825554,128.522400], radius=dalsu20_b_wd_a/5000,color='red',fill_color='#3186cc').add_to(map_osm) #달서구\n",
    "folium.CircleMarker([35.943167, 128.682245], radius=dongu20_b_wd_a/5000,color='blue',fill_color='#3186cc').add_to(map_osm) #동구\n",
    "folium.CircleMarker([35.833766, 128.661857], radius=su20_b_wd_a/5000,color='white',fill_color='#3186cc').add_to(map_osm) #수성구\n",
    "folium.CircleMarker([35.759767, 128.486344], radius=dal20_b_wd_a/5000,color='black',fill_color='#3186cc').add_to(map_osm) #달성군\n",
    "folium.CircleMarker([35.835756, 128.585926], radius=namgu20_b_wd_a/5000,color='yellow',fill_color='#3186cc').add_to(map_osm) #남구\n",
    "folium.CircleMarker([35.874749, 128.549190], radius=se20_b_wd_a/5000,color='green',fill_color='#3186cc').add_to(map_osm) #서구\n",
    "folium.CircleMarker([35.928377, 128.576568], radius=north20_b_wd_a/5000,color='pink',fill_color='#3186cc').add_to(map_osm) #북구\n",
    "folium.CircleMarker([35.866492, 128.592795], radius=middle20_b_wd_a/5000,color='#3186cc',fill_color='#3186cc').add_to(map_osm) #중구\n",
    "# text = 'your text here'\n",
    "\n",
    "# iframe = folium.IFrame(text, width=700, height=450)\n",
    "\n",
    "# Text = folium.Marker(location=[35.825554,128.60250])\n",
    "# map_osm.add_child(Text)\n",
    "map_osm\n",
    "# map_osm.save('daegubuscorona.html')"
   ]
  },
  {
   "cell_type": "code",
   "execution_count": 43,
   "metadata": {},
   "outputs": [],
   "source": [
    "#서군구별 평일 200218~200406\n",
    "dongu20_after_weekday_arrival_tmp = dongu20.loc[(dongu20.운행일자 >=20200218)&(dongu20.운행일자 <=20200406) & \n",
    "                       ((dongu20.요일구분!=1)&(dongu20.요일구분!=7))].도착통행인원\n",
    "su20_after_weekday_arrival_tmp = su20.loc[(dongu20.운행일자 >=20200218)&(su20.운행일자 <=20200406) & \n",
    "                       ((su20.요일구분!=1)&(su20.요일구분!=7))].도착통행인원\n",
    "dal20_after_weekday_arrival_tmp = dal20.loc[(dal20.운행일자 >=20200218)&(dal19.운행일자 <=2020406) & \n",
    "                       ((dal20.요일구분!=1)&(dal20.요일구분!=7))].도착통행인원\n",
    "dalsu20_after_weekday_arrival_tmp = dalsu20.loc[(dalsu20.운행일자 >=20200218)&(dalsu20.운행일자 <=20200406) & \n",
    "                       ((dalsu20.요일구분!=1)&(dalsu20.요일구분!=7))].도착통행인원\n",
    "namgu20_after_weekday_arrival_tmp = namgu20.loc[(namgu20.운행일자 >=20200218)&(namgu19.운행일자 <=20200406) & \n",
    "                       ((namgu20.요일구분!=1)&(namgu19.요일구분!=7))].도착통행인원\n",
    "middle20_after_weekday_arrival_tmp = middle20.loc[(middle20.운행일자 >=20200218)&(middle19.운행일자 <=20200406) & \n",
    "                       ((middle20.요일구분!=1)&(middle20.요일구분!=7))].도착통행인원\n",
    "north20_after_weekday_arrival_tmp = north20.loc[(north19.운행일자 >=20200218)&(north19.운행일자 <=20200406) & \n",
    "                       ((north20.요일구분!=1)&(north20.요일구분!=7))].도착통행인원\n",
    "se20_after_weekday_arrival_tmp = se20.loc[(se20.운행일자 >=20200218)&(se19.운행일자 <=20200406) & \n",
    "                       ((se20.요일구분!=1)&(se20.요일구분!=7))].도착통행인원"
   ]
  },
  {
   "cell_type": "code",
   "execution_count": 44,
   "metadata": {},
   "outputs": [],
   "source": [
    "dalsu20_a_w_a = (dalsu20_after_weekday_arrival_tmp/35).sum() #달서구 \n",
    "dongu20_a_w_a = (dongu20_after_weekday_arrival_tmp/35).sum() #동구\n",
    "su20_a_w_a = (su20_after_weekday_arrival_tmp/35).sum() #수성군\n",
    "dal20_a_w_a = (dal20_after_weekday_arrival_tmp/35).sum() #달성군\n",
    "namgu20_a_w_a = (namgu20_after_weekday_arrival_tmp/35).sum() #남구\n",
    "se20_a_w_a = (se20_after_weekday_arrival_tmp/35).sum() #서구\n",
    "north20_a_w_a = (north20_after_weekday_arrival_tmp/35).sum() #북구\n",
    "middle20_a_w_a = (middle20_after_weekday_arrival_tmp/35).sum() #중구"
   ]
  },
  {
   "cell_type": "code",
   "execution_count": 45,
   "metadata": {
    "scrolled": true
   },
   "outputs": [
    {
     "data": {
      "text/html": [
       "<div style=\"width:100%;\"><div style=\"position:relative;width:100%;height:0;padding-bottom:60%;\"><span style=\"color:#565656\">Make this Notebook Trusted to load map: File -> Trust Notebook</span><iframe src=\"about:blank\" style=\"position:absolute;width:100%;height:100%;left:0;top:0;border:none !important;\" data-html=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 onload=\"this.contentDocument.open();this.contentDocument.write(atob(this.getAttribute('data-html')));this.contentDocument.close();\" allowfullscreen webkitallowfullscreen mozallowfullscreen></iframe></div></div>"
      ],
      "text/plain": [
       "<folium.folium.Map at 0x255a16a5a90>"
      ]
     },
     "execution_count": 45,
     "metadata": {},
     "output_type": "execute_result"
    }
   ],
   "source": [
    "#서군구별 평일 200101~200217\n",
    "map_osm = folium.Map(location=[35.87222, 128.60250], zoom_start=11)\n",
    "folium.CircleMarker([35.825554,128.522400], radius=dalsu20_a_w_a/5000,color='red',fill_color='#3186cc').add_to(map_osm) #달서구\n",
    "folium.CircleMarker([35.943167, 128.682245], radius=dongu20_a_w_a/5000,color='blue',fill_color='#3186cc').add_to(map_osm) #동구\n",
    "folium.CircleMarker([35.833766, 128.661857], radius=su20_a_w_a/5000,color='white',fill_color='#3186cc').add_to(map_osm) #수성구\n",
    "folium.CircleMarker([35.759767, 128.486344], radius=dal20_a_w_a/5000,color='black',fill_color='#3186cc').add_to(map_osm) #달성군\n",
    "folium.CircleMarker([35.835756, 128.585926], radius=namgu20_a_w_a/5000,color='yellow',fill_color='#3186cc').add_to(map_osm) #남구\n",
    "folium.CircleMarker([35.874749, 128.549190], radius=se20_a_w_a/5000,color='green',fill_color='#3186cc').add_to(map_osm) #서구\n",
    "folium.CircleMarker([35.928377, 128.576568], radius=north20_a_w_a/5000,color='pink',fill_color='#3186cc').add_to(map_osm) #북구\n",
    "folium.CircleMarker([35.866492, 128.592795], radius=middle20_a_w_a/5000,color='#3186cc',fill_color='#3186cc').add_to(map_osm) #중구\n",
    "# text = 'your text here'\n",
    "\n",
    "# iframe = folium.IFrame(text, width=700, height=450)\n",
    "\n",
    "# Text = folium.Marker(location=[35.825554,128.60250])\n",
    "# map_osm.add_child(Text)\n",
    "map_osm\n",
    "# map_osm.save('daegubuscorona.html')"
   ]
  },
  {
   "cell_type": "code",
   "execution_count": null,
   "metadata": {},
   "outputs": [],
   "source": [
    "#서군구별 평일 200218~200406\n",
    "dongu20_after_weekday_arrival_tmp = dongu20.loc[(dongu20.운행일자 >=20200218)&(dongu20.운행일자 <=20200406) & \n",
    "                       ((dongu20.요일구분!=1)&(dongu20.요일구분!=7))].도착통행인원\n",
    "su20_after_weekday_arrival_tmp = su20.loc[(dongu20.운행일자 >=20200218)&(su20.운행일자 <=20200406) & \n",
    "                       ((su20.요일구분!=1)&(su20.요일구분!=7))].도착통행인원\n",
    "dal20_after_weekday_arrival_tmp = dal20.loc[(dal20.운행일자 >=20200218)&(dal19.운행일자 <=2020406) & \n",
    "                       ((dal20.요일구분!=1)&(dal20.요일구분!=7))].도착통행인원\n",
    "dalsu20_after_weekday_arrival_tmp = dalsu20.loc[(dalsu20.운행일자 >=20200218)&(dalsu20.운행일자 <=20200406) & \n",
    "                       ((dalsu20.요일구분!=1)&(dalsu20.요일구분!=7))].도착통행인원\n",
    "namgu20_after_weekday_arrival_tmp = namgu20.loc[(namgu20.운행일자 >=20200218)&(namgu19.운행일자 <=20200406) & \n",
    "                       ((namgu20.요일구분!=1)&(namgu19.요일구분!=7))].도착통행인원\n",
    "middle20_after_weekday_arrival_tmp = middle20.loc[(middle20.운행일자 >=20200218)&(middle19.운행일자 <=20200406) & \n",
    "                       ((middle20.요일구분!=1)&(middle20.요일구분!=7))].도착통행인원\n",
    "north20_after_weekday_arrival_tmp = north20.loc[(north19.운행일자 >=20200218)&(north19.운행일자 <=20200406) & \n",
    "                       ((north20.요일구분!=1)&(north20.요일구분!=7))].도착통행인원\n",
    "se20_after_weekday_arrival_tmp = se20.loc[(se20.운행일자 >=20200218)&(se19.운행일자 <=20200406) & \n",
    "                       ((se20.요일구분!=1)&(se20.요일구분!=7))].도착통행인원"
   ]
  },
  {
   "cell_type": "code",
   "execution_count": null,
   "metadata": {},
   "outputs": [],
   "source": [
    "dal19_b_w_a = (dalsu19_before_weekday_arrival_tmp/34).sum() #달서구 \n",
    "dongu19_b_w_a = (dongu19_before_weekday_arrival_tmp/34).sum() #동구\n",
    "su19_b_w_a = (su19_before_weekday_arrival_tmp/34).sum() #수성군\n",
    "dal19_b_w_a = (dal19_before_weekday_arrival_tmp/34).sum() #달성군\n",
    "namgu19_b_w_a = (namgu19_before_weekday_arrival_tmp/34).sum() #남구\n",
    "se19_b_w_a = (se19_before_weekday_arrival_tmp/34).sum() #서구\n",
    "north19_b_w_a = (north19_before_weekday_arrival_tmp/34).sum() #북구\n",
    "middle19_b_w_a = (middle19_before_weekday_arrival_tmp/34).sum() #중구"
   ]
  },
  {
   "cell_type": "code",
   "execution_count": null,
   "metadata": {},
   "outputs": [],
   "source": []
  },
  {
   "cell_type": "code",
   "execution_count": null,
   "metadata": {},
   "outputs": [],
   "source": [
    "# 도착_통행인원\n",
    "def arrival_personnel(dong_code):\n",
    "    \n",
    "    # 2019년\n",
    "    # 01.01 ~ 02.17 \n",
    "    # (평일)\n",
    "#     DAGUCARD06_2019_before_weekday_arrival_tmp = DAGUCARD06.loc[(DAGUCARD06.운행_일자 >=20190101) &\n",
    "#                                                               (DAGUCARD06.운행_일자 <=20190217) & \n",
    "#                                                               (DAGUCARD06.이용_지역_코드==dong_code)&\n",
    "#                                                               ((DAGUCARD06.요일_구분!=1)&(DAGUCARD06.요일_구분!=7))\n",
    "#                                                              ].도착_통행인원\n",
    "#     DAGUCARD06_2019_before_weekday_arrival = DAGUCARD06_2019_before_weekday_arrival_tmp.sum()\n",
    "#     DAGUCARD06_2019_before_weekday_arrival_list.append(DAGUCARD06_2019_before_weekday_arrival/34)\n",
    "#     # (주말)\n",
    "#     DAGUCARD06_2019_before_weekend_arrival_tmp = DAGUCARD06.loc[(DAGUCARD06.운행_일자 >=20190101) &\n",
    "#                                                               (DAGUCARD06.운행_일자 <=20190217) & \n",
    "#                                                               (DAGUCARD06.이용_지역_코드==dong_code)&\n",
    "#                                                               ((DAGUCARD06.요일_구분==1)|(DAGUCARD06.요일_구분==7))\n",
    "#                                                              ].도착_통행인원\n",
    "#     DAGUCARD06_2019_before_weekend_arrival = DAGUCARD06_2019_before_weekend_arrival_tmp.sum()\n",
    "#     DAGUCARD06_2019_before_weekend_arrival_list.append(DAGUCARD06_2019_before_weekend_arrival/14)\n",
    "    \n",
    "    # 02.18 ~ 04.06\n",
    "    # (평일)\n",
    "#     DAGUCARD06_2019_after_weekday_arrival_tmp = DAGUCARD06.loc[(DAGUCARD06.운행_일자 >=20190218) &\n",
    "#                                                               (DAGUCARD06.운행_일자 <=20190406) & \n",
    "#                                                               (DAGUCARD06.이용_지역_코드==dong_code)&\n",
    "#                                                               ((DAGUCARD06.요일_구분!=1)&(DAGUCARD06.요일_구분!=7))\n",
    "#                                                              ].도착_통행인원\n",
    "#     DAGUCARD06_2019_after_weekday_arrival = DAGUCARD06_2019_after_weekday_arrival_tmp.sum()\n",
    "#     DAGUCARD06_2019_after_weekday_arrival_list.append(DAGUCARD06_2019_after_weekday_arrival/35)\n",
    "    # (주말)\n",
    "#     DAGUCARD06_2019_after_weekend_arrival_tmp = DAGUCARD06.loc[(DAGUCARD06.운행_일자 >=20190218) &\n",
    "#                                                               (DAGUCARD06.운행_일자 <=20190406) & \n",
    "#                                                               (DAGUCARD06.이용_지역_코드==dong_code)&\n",
    "#                                                               ((DAGUCARD06.요일_구분==1)|(DAGUCARD06.요일_구분==7))\n",
    "#                                                              ].도착_통행인원\n",
    "#     DAGUCARD06_2019_after_weekend_arrival = DAGUCARD06_2019_after_weekend_arrival_tmp.sum()\n",
    "#     DAGUCARD06_2019_after_weekend_arrival_list.append(DAGUCARD06_2019_after_weekend_arrival/13)\n",
    "    \n",
    "    \n",
    "    # 2020년\n",
    "    # 01.01 ~ 02.17 \n",
    "    # (평일)\n",
    "#     DAGUCARD06_2020_before_weekday_arrival_tmp = DAGUCARD06.loc[(DAGUCARD06.운행_일자 >=20200101) &\n",
    "#                                                               (DAGUCARD06.운행_일자 <=20200217) & \n",
    "#                                                               (DAGUCARD06.이용_지역_코드==dong_code)&\n",
    "#                                                               ((DAGUCARD06.요일_구분!=1)&(DAGUCARD06.요일_구분!=7))\n",
    "#                                                              ].도착_통행인원\n",
    "#     DAGUCARD06_2020_before_weekday_arrival = DAGUCARD06_2020_before_weekday_arrival_tmp.sum()\n",
    "#     DAGUCARD06_2020_before_weekday_arrival_list.append(DAGUCARD06_2020_before_weekday_arrival/34)\n",
    "    # (주말)\n",
    "#     DAGUCARD06_2020_before_weekend_arrival_tmp = DAGUCARD06.loc[(DAGUCARD06.운행_일자 >=20200101) &\n",
    "#                                                               (DAGUCARD06.운행_일자 <=20200217) & \n",
    "#                                                               (DAGUCARD06.이용_지역_코드==dong_code)&\n",
    "#                                                               ((DAGUCARD06.요일_구분==1)|(DAGUCARD06.요일_구분==7))\n",
    "#                                                              ].도착_통행인원\n",
    "#     DAGUCARD06_2020_before_weekend_arrival = DAGUCARD06_2020_before_weekend_arrival_tmp.sum()\n",
    "#     DAGUCARD06_2020_before_weekend_arrival_list.append(DAGUCARD06_2020_before_weekend_arrival/14)\n",
    "    \n",
    "    # 02.18 ~ 04.06\n",
    "    # (평일)\n",
    "    DAGUCARD06_2020_after_weekday_arrival_tmp = DAGUCARD06.loc[(DAGUCARD06.운행_일자 >=20200218) &\n",
    "                                                              (DAGUCARD06.운행_일자 <=20200406) & \n",
    "                                                              (DAGUCARD06.이용_지역_코드==dong_code)&\n",
    "                                                              ((DAGUCARD06.요일_구분!=1)&(DAGUCARD06.요일_구분!=7))\n",
    "                                                             ].도착_통행인원\n",
    "    DAGUCARD06_2020_after_weekday_arrival = DAGUCARD06_2020_after_weekday_arrival_tmp.sum()\n",
    "    DAGUCARD06_2020_after_weekday_arrival_list.append(DAGUCARD06_2020_after_weekday_arrival/35)\n",
    "    # (주말)\n",
    "    DAGUCARD06_2020_after_weekend_arrival_tmp = DAGUCARD06.loc[(DAGUCARD06.운행_일자 >=20200218) &\n",
    "                                                              (DAGUCARD06.운행_일자 <=20200406) & \n",
    "                                                              (DAGUCARD06.이용_지역_코드==dong_code)&\n",
    "                                                              ((DAGUCARD06.요일_구분==1)|(DAGUCARD06.요일_구분==7))\n",
    "                                                             ].도착_통행인원\n",
    "    DAGUCARD06_2020_after_weekend_arrival = DAGUCARD06_2020_after_weekend_arrival_tmp.sum()\n",
    "    DAGUCARD06_2020_after_weekend_arrival_list.append(DAGUCARD06_2020_after_weekend_arrival/14)"
   ]
  },
  {
   "cell_type": "code",
   "execution_count": null,
   "metadata": {},
   "outputs": [],
   "source": [
    "#서군구별 평일 190101~190217\n",
    "map_osm = folium.Map(location=[35.87222, 128.60250], zoom_start=11)\n",
    "folium.CircleMarker([35.825554,128.522400], radius=dal19_b_w_a/5000,color='red',fill_color='#3186cc').add_to(map_osm) #달서구\n",
    "folium.CircleMarker([35.943167, 128.682245], radius=dongu19_b_w_a/5000,color='blue',fill_color='#3186cc').add_to(map_osm) #동구\n",
    "folium.CircleMarker([35.833766, 128.661857], radius=su19_b_w_a/5000,color='white',fill_color='#3186cc').add_to(map_osm) #수성구\n",
    "folium.CircleMarker([35.759767, 128.486344], radius=dal19_b_w_a/5000,color='black',fill_color='#3186cc').add_to(map_osm) #달성군\n",
    "folium.CircleMarker([35.835756, 128.585926], radius=namgu19_b_w_a/5000,color='yellow',fill_color='#3186cc').add_to(map_osm) #남구\n",
    "folium.CircleMarker([35.874749, 128.549190], radius=se19_b_w_a/5000,color='green',fill_color='#3186cc').add_to(map_osm) #서구\n",
    "folium.CircleMarker([35.928377, 128.576568], radius=north19_b_w_a/5000,color='pink',fill_color='#3186cc').add_to(map_osm) #북구\n",
    "folium.CircleMarker([35.866492, 128.592795], radius=middle19_b_w_a/5000,color='#3186cc',fill_color='#3186cc').add_to(map_osm) #중구\n",
    "# text = 'your text here'\n",
    "\n",
    "# iframe = folium.IFrame(text, width=700, height=450)\n",
    "\n",
    "# Text = folium.Marker(location=[35.825554,128.60250])\n",
    "# map_osm.add_child(Text)\n",
    "map_osm\n",
    "# map_osm.save('daegubuscorona.html')"
   ]
  },
  {
   "cell_type": "code",
   "execution_count": 43,
   "metadata": {},
   "outputs": [
    {
     "data": {
      "text/plain": [
       "1236283"
      ]
     },
     "execution_count": 43,
     "metadata": {},
     "output_type": "execute_result"
    }
   ],
   "source": [
    "C2019_D = data19.loc[(data19.운행일자 >= 20190225) & (data19.운행일자 < 20190302) ].도착통행인원\n",
    "\n",
    "A = C2019_D.sum()\n",
    "\n",
    "A\n",
    "\n",
    "C2019_A = data19.loc[(data19.운행일자 >= 20190225) & (data19.운행일자 < 20190302) ].발생통행인원\n",
    "\n",
    "B = C2019_A.sum()\n",
    "\n",
    "B\n",
    "\n",
    "C2020_D = data20.loc[(data20.운행일자 >= 20200225) & (data20.운행일자 < 20200302)].도착통행인원\n",
    "\n",
    "C = C2020_D.sum()\n",
    "\n",
    "C\n",
    "\n",
    "C2020_A= data20.loc[(data20.운행일자 > 20200225) & (data20.운행일자 < 20200302)].발생통행인원\n",
    "\n",
    "D = C2020_A.sum()\n",
    "\n",
    "D"
   ]
  },
  {
   "cell_type": "code",
   "execution_count": 46,
   "metadata": {},
   "outputs": [],
   "source": [
    "from matplotlib import font_manager"
   ]
  },
  {
   "cell_type": "code",
   "execution_count": 48,
   "metadata": {},
   "outputs": [],
   "source": [
    "for font in font_manager.fontManager.ttflist:\n",
    "    if 'Nanum' in font.name:\n",
    "        print(font.name, font.fname)"
   ]
  },
  {
   "cell_type": "code",
   "execution_count": 69,
   "metadata": {},
   "outputs": [],
   "source": [
    "import matplotlib.font_manager as fm\n",
    "path = 'C:/Windows/Fonts/malgun.ttf'"
   ]
  },
  {
   "cell_type": "code",
   "execution_count": 83,
   "metadata": {
    "scrolled": true
   },
   "outputs": [
    {
     "data": {
      "image/png": "[encoded data removed]",
      "text/plain": [
       "<Figure size 432x288 with 1 Axes>"
      ]
     },
     "metadata": {
      "needs_background": "light"
     },
     "output_type": "display_data"
    }
   ],
   "source": [
    "#dongu19 = data19.loc[data19.시군구코드=='동구']\n",
    "#su19 = data19.loc[data19.시군구코드=='수성구']\n",
    "#dal19 = data19.loc[data19.시군구코드=='달성군']\n",
    "#dalsu19 = data19.loc[data19.시군구코드=='달서구']\n",
    "#namgu19 = data19.loc[data19.시군구코드=='남구']\n",
    "#middle19 = data19.loc[data19.시군구코드=='중구']\n",
    "#north19 = data19.loc[data19.시군구코드=='북구']\n",
    "#se19 = data19.loc[data19.시군구코드=='서구']\n",
    "\n",
    "import matplotlib\n",
    "import matplotlib.pyplot as plt\n",
    "import numpy as np\n",
    "\n",
    "\n",
    "labels = ['동구','수성구','달성군','달서구','남구','중구','북구','서구']\n",
    "depart = [a,b,c,d,e,f,g,h]\n",
    "appear = [a,b,c,d,e,f,g,h]\n",
    "\n",
    "x = np.arange(len(labels))  # the label locations\n",
    "width = 0.35  # the width of the bars\n",
    "a\n",
    "fig, ax = plt.subplots()\n",
    "ax.bar(x - width/2, appear, width, label='Appear')\n",
    "# ax.bar(x + width/2, depart, width, label='Depart')\n",
    "\n",
    "# Add some text for labels, title and custom x-axis tick labels, etc.\n",
    "ax.set_ylabel('인원',rotation=0)\n",
    "ax.set_title('2019')\n",
    "ax.set_xticks(x)\n",
    "ax.set_xticklabels(labels)\n",
    "\n",
    "\n",
    "fig.tight_layout()\n",
    "# plt.text(0.3, 0.3, '한글', size=30)\n",
    "font_name = fm.FontProperties(fname=path, size=50).get_name()\n",
    "\n",
    "plt.rc('font', family=font_name)\n",
    "\n",
    "plt.show()"
   ]
  },
  {
   "cell_type": "code",
   "execution_count": 82,
   "metadata": {},
   "outputs": [
    {
     "data": {
      "image/png": "[encoded data removed]",
      "text/plain": [
       "<Figure size 432x288 with 1 Axes>"
      ]
     },
     "metadata": {
      "needs_background": "light"
     },
     "output_type": "display_data"
    }
   ],
   "source": [
    "#dongu19 = data19.loc[data19.시군구코드=='동구']\n",
    "#su19 = data19.loc[data19.시군구코드=='수성구']\n",
    "#dal19 = data19.loc[data19.시군구코드=='달성군']\n",
    "#dalsu19 = data19.loc[data19.시군구코드=='달서구']\n",
    "#namgu19 = data19.loc[data19.시군구코드=='남구']\n",
    "#middle19 = data19.loc[data19.시군구코드=='중구']\n",
    "#north19 = data19.loc[data19.시군구코드=='북구']\n",
    "#se19 = data19.loc[data19.시군구코드=='서구']\n",
    "\n",
    "import matplotlib\n",
    "import matplotlib.pyplot as plt\n",
    "import numpy as np\n",
    "\n",
    "\n",
    "labels = ['동구','서구','달성군','달서구','남구','중구','북구','서구']\n",
    "depart = [a,b,c,d,e,f,g,h]\n",
    "appear = [aa,bb,cc,dd,ee,ff,gg,hh]\n",
    "\n",
    "x = np.arange(len(labels))  # the label locations\n",
    "width = 0.35  # the width of the bars\n",
    "a\n",
    "fig, ax = plt.subplots()\n",
    "ax.bar(x - width/2, appear, width)\n",
    "# ax.bar(x + width/2, depart, width, label='Depart')\n",
    "\n",
    "# Add some text for labels, title and custom x-axis tick labels, etc.\n",
    "ax.set_ylabel('인원',rotation=0)\n",
    "ax.set_title('2020 버스 확진자 이후')\n",
    "ax.set_xticks(x)\n",
    "ax.set_xticklabels(labels)\n",
    "\n",
    "font_name = fm.FontProperties(fname=path, size=50).get_name()\n",
    "\n",
    "plt.rc('font', family=font_name)\n",
    "\n",
    "fig.tight_layout()\n",
    "# plt.text(0.3, 0.3, '한글', size=30)\n",
    "\n",
    "plt.show()"
   ]
  },
  {
   "cell_type": "code",
   "execution_count": 8,
   "metadata": {
    "scrolled": true
   },
   "outputs": [],
   "source": [
    "dongu = dongu19.loc[(dongu19.운행일자 >= 20190225) & (dongu19.운행일자 < 20190302)]\n",
    "su = su19.loc[(su19.운행일자 >= 20190225) & (su19.운행일자 < 20190302)]\n",
    "dal = dal19.loc[(dal19.운행일자 >= 20190225) & (dal19.운행일자 < 20190302)]\n",
    "dalsu= dalsu19.loc[(dalsu19.운행일자 >= 20190225) & (dalsu19.운행일자 < 20190302)]\n",
    "namgu = namgu19.loc[(namgu19.운행일자 >= 20190225) & (namgu19.운행일자 < 20190302)]\n",
    "middle = middle19.loc[(middle19.운행일자 >= 20190225) & (middle19.운행일자 < 20190302)]\n",
    "north = north19.loc[(north19.운행일자 >= 20190225) & (north19.운행일자 < 20190302)]\n",
    "se = se19.loc[(se19.운행일자 >= 20190225) & (se19.운행일자 < 20190302)]"
   ]
  },
  {
   "cell_type": "code",
   "execution_count": 9,
   "metadata": {},
   "outputs": [],
   "source": [
    "a = dalsu.발생통행인원.sum() #달서구\n",
    "b = dongu.발생통행인원.sum() #동구\n",
    "c = su.발생통행인원.sum() # 수성구\n",
    "d = dal.발생통행인원.sum() #달성군\n",
    "e = namgu.발생통행인원.sum() #남구\n",
    "f = se.발생통행인원.sum() #서구\n",
    "g = north.발생통행인원.sum() #북구\n",
    "h = middle.발생통행인원.sum() #중구"
   ]
  },
  {
   "cell_type": "code",
   "execution_count": 12,
   "metadata": {},
   "outputs": [
    {
     "name": "stdout",
     "output_type": "stream",
     "text": [
      "959902 743485 713988 234597 363169 356357 639823 736460\n"
     ]
    }
   ],
   "source": [
    "print(a,b,c,d,e,f,g,h)"
   ]
  },
  {
   "cell_type": "code",
   "execution_count": 37,
   "metadata": {},
   "outputs": [],
   "source": [
    "list1 = ['LWPOLYLINE_1_','LWPOLYLINE_2_','LWPOLYLINE_3_','LWPOLYLINE_4_',\n",
    "                'LWPOLYLINE_5_','LWPOLYLINE_6_','LWPOLYLINE_7_','LWPOLYLINE_8_']"
   ]
  },
  {
   "cell_type": "code",
   "execution_count": 38,
   "metadata": {},
   "outputs": [],
   "source": [
    "list2 = [a,b,c,d,e,f,g,h]"
   ]
  },
  {
   "cell_type": "code",
   "execution_count": 39,
   "metadata": {},
   "outputs": [],
   "source": [
    "hi = {'colum': list1,\n",
    "     'value' : list2}"
   ]
  },
  {
   "cell_type": "code",
   "execution_count": 17,
   "metadata": {},
   "outputs": [],
   "source": [
    "row = {'value': [a,b,c,d,e,f,g,h],'colum': ['LWPOLYLINE_1_','LWPOLYLINE_2_','LWPOLYLINE_3_','LWPOLYLINE_4_'\n",
    "                'LWPOLYLINE_5_','LWPOLYLINE_6_','LWPOLYLINE_7_','LWPOLYLINE_8_']}"
   ]
  },
  {
   "cell_type": "code",
   "execution_count": 34,
   "metadata": {},
   "outputs": [
    {
     "data": {
      "text/plain": [
       "{'colum': ['LWPOLYLINE_1_',\n",
       "  'LWPOLYLINE_2_',\n",
       "  'LWPOLYLINE_3_',\n",
       "  'LWPOLYLINE_4_LWPOLYLINE_5_',\n",
       "  'LWPOLYLINE_6_',\n",
       "  'LWPOLYLINE_7_',\n",
       "  'LWPOLYLINE_8_'],\n",
       " 'value': [959902, 743485, 713988, 234597, 363169, 356357, 639823, 736460]}"
      ]
     },
     "execution_count": 34,
     "metadata": {},
     "output_type": "execute_result"
    }
   ],
   "source": [
    "hi"
   ]
  },
  {
   "cell_type": "code",
   "execution_count": 40,
   "metadata": {},
   "outputs": [],
   "source": [
    "reader = pd.DataFrame(hi)"
   ]
  },
  {
   "cell_type": "code",
   "execution_count": null,
   "metadata": {},
   "outputs": [],
   "source": [
    "print(a)\n",
    "print(b)\n",
    "print(c)\n",
    "print(d)\n",
    "print(e)\n",
    "print(f)\n",
    "print(g)\n",
    "print(h)"
   ]
  },
  {
   "cell_type": "code",
   "execution_count": 13,
   "metadata": {},
   "outputs": [],
   "source": [
    "dongu20 = data20.loc[data20.시군구코드=='동구']\n",
    "su20 = data20.loc[data20.시군구코드=='수성구']\n",
    "dal20 = data20.loc[data20.시군구코드=='달성군']\n",
    "dalsu20 = data20.loc[data20.시군구코드=='달서구']\n",
    "namgu20 = data20.loc[data20.시군구코드=='남구']\n",
    "middle20 = data20.loc[data20.시군구코드=='중구']\n",
    "north20 = data20.loc[data20.시군구코드=='북구']\n",
    "se20 = data20.loc[data20.시군구코드=='서구']"
   ]
  },
  {
   "cell_type": "code",
   "execution_count": 15,
   "metadata": {},
   "outputs": [],
   "source": [
    "dongu2_2 = dongu20.loc[(dongu20.운행일자 >= 20200225) & (dongu20.운행일자 < 20200302)]\n",
    "su2_2 = su20.loc[(su20.운행일자 >= 20200225) & (su20.운행일자 < 20200302)]\n",
    "dal2_2 = dal20.loc[(dal20.운행일자 >= 20200225) & (dal20.운행일자 < 20200302)]\n",
    "dalsu2_2= dalsu20.loc[(dalsu20.운행일자 >= 20200225) & (dalsu20.운행일자 < 20200302)]\n",
    "namgu2_2 = namgu20.loc[(namgu20.운행일자 >= 20200225) & (namgu20.운행일자 < 20200302)]\n",
    "middle2_2 = middle20.loc[(middle20.운행일자 >= 20200225) & (middle20.운행일자 < 20200302)]\n",
    "north2_2 = north20.loc[(north20.운행일자 >= 20200225) & (north20.운행일자 < 20200302)]\n",
    "se2_2 = se20.loc[(se20.운행일자 >= 20200225) & (se20.운행일자 < 20200302)]"
   ]
  },
  {
   "cell_type": "code",
   "execution_count": 16,
   "metadata": {},
   "outputs": [],
   "source": [
    "aa = dalsu2_2.발생통행인원.sum() #달서구\n",
    "bb = dongu2_2.발생통행인원.sum() #동구\n",
    "cc = su2_2.발생통행인원.sum() # 수성구\n",
    "dd = dal2_2.발생통행인원.sum() #달성군\n",
    "ee = namgu2_2.발생통행인원.sum() #남구\n",
    "ff = se2_2.발생통행인원.sum() #서구\n",
    "gg = north2_2.발생통행인원.sum() #북구\n",
    "hh = middle2_2.발생통행인원.sum() #중구"
   ]
  },
  {
   "cell_type": "code",
   "execution_count": 17,
   "metadata": {},
   "outputs": [
    {
     "name": "stdout",
     "output_type": "stream",
     "text": [
      "327370\n",
      "236790\n",
      "210584\n",
      "82350\n",
      "114424\n",
      "138344\n",
      "231647\n",
      "167277\n"
     ]
    }
   ],
   "source": [
    "print(aa)\n",
    "print(bb)\n",
    "print(cc)\n",
    "print(dd)\n",
    "print(ee)\n",
    "print(ff)\n",
    "print(gg)\n",
    "print(hh)"
   ]
  },
  {
   "cell_type": "code",
   "execution_count": null,
   "metadata": {},
   "outputs": [],
   "source": [
    "# pip install folium"
   ]
  },
  {
   "cell_type": "code",
   "execution_count": 21,
   "metadata": {
    "scrolled": true
   },
   "outputs": [],
   "source": [
    "import folium"
   ]
  },
  {
   "cell_type": "code",
   "execution_count": 53,
   "metadata": {},
   "outputs": [],
   "source": [
    "from folium import IFrame"
   ]
  },
  {
   "cell_type": "code",
   "execution_count": null,
   "metadata": {},
   "outputs": [],
   "source": [
    "import matplotlib\n",
    "import matplotlib.pyplot as plt\n",
    "import numpy as np\n",
    "\n",
    "\n",
    "labels = ['2019', '2020_c1']\n",
    "depart = [B,D]\n",
    "appear = [A,C]\n",
    "\n",
    "x = np.arange(len(labels))  # the label locations\n",
    "width = 0.35  # the width of the bars\n",
    "a\n",
    "fig, ax = plt.subplots()\n",
    "ax.bar(x - width/2, appear, width, label='Appear')\n",
    "ax.bar(x + width/2, depart, width, label='Depart')\n",
    "\n",
    "# Add some text for labels, title and custom x-axis tick labels, etc.\n",
    "ax.set_ylabel('person')\n",
    "ax.set_title('2019 vs 2020_c')\n",
    "ax.set_xticks(x)\n",
    "ax.set_xticklabels(labels)\n",
    "ax.legend()\n",
    "\n",
    "\n",
    "fig.tight_layout()\n",
    "# plt.text(0.3, 0.3, '한글', size=30)\n",
    "\n",
    "plt.show()"
   ]
  },
  {
   "cell_type": "code",
   "execution_count": 62,
   "metadata": {
    "scrolled": true
   },
   "outputs": [
    {
     "ename": "NameError",
     "evalue": "name 'a' is not defined",
     "output_type": "error",
     "traceback": [
      "\u001b[1;31m---------------------------------------------------------------------------\u001b[0m",
      "\u001b[1;31mNameError\u001b[0m                                 Traceback (most recent call last)",
      "\u001b[1;32m<ipython-input-62-ee373c5d0f04>\u001b[0m in \u001b[0;36m<module>\u001b[1;34m\u001b[0m\n\u001b[0;32m      1\u001b[0m \u001b[1;31m#2019_0225~0301 대구 버스기사 발생인원 총합\u001b[0m\u001b[1;33m\u001b[0m\u001b[1;33m\u001b[0m\u001b[1;33m\u001b[0m\u001b[0m\n\u001b[0;32m      2\u001b[0m \u001b[0mmap_osm\u001b[0m \u001b[1;33m=\u001b[0m \u001b[0mfolium\u001b[0m\u001b[1;33m.\u001b[0m\u001b[0mMap\u001b[0m\u001b[1;33m(\u001b[0m\u001b[0mlocation\u001b[0m\u001b[1;33m=\u001b[0m\u001b[1;33m[\u001b[0m\u001b[1;36m35.87222\u001b[0m\u001b[1;33m,\u001b[0m \u001b[1;36m128.60250\u001b[0m\u001b[1;33m]\u001b[0m\u001b[1;33m,\u001b[0m \u001b[0mzoom_start\u001b[0m\u001b[1;33m=\u001b[0m\u001b[1;36m11\u001b[0m\u001b[1;33m)\u001b[0m\u001b[1;33m\u001b[0m\u001b[1;33m\u001b[0m\u001b[0m\n\u001b[1;32m----> 3\u001b[1;33m \u001b[0mfolium\u001b[0m\u001b[1;33m.\u001b[0m\u001b[0mCircleMarker\u001b[0m\u001b[1;33m(\u001b[0m\u001b[1;33m[\u001b[0m\u001b[1;36m35.825554\u001b[0m\u001b[1;33m,\u001b[0m\u001b[1;36m128.522400\u001b[0m\u001b[1;33m]\u001b[0m\u001b[1;33m,\u001b[0m \u001b[0mradius\u001b[0m\u001b[1;33m=\u001b[0m\u001b[0ma\u001b[0m\u001b[1;33m/\u001b[0m\u001b[1;36m30000\u001b[0m\u001b[1;33m,\u001b[0m\u001b[0mcolor\u001b[0m\u001b[1;33m=\u001b[0m\u001b[1;34m'red'\u001b[0m\u001b[1;33m,\u001b[0m\u001b[0mfill_color\u001b[0m\u001b[1;33m=\u001b[0m\u001b[1;34m'#3186cc'\u001b[0m\u001b[1;33m)\u001b[0m\u001b[1;33m.\u001b[0m\u001b[0madd_to\u001b[0m\u001b[1;33m(\u001b[0m\u001b[0mmap_osm\u001b[0m\u001b[1;33m)\u001b[0m \u001b[1;31m#달서구\u001b[0m\u001b[1;33m\u001b[0m\u001b[1;33m\u001b[0m\u001b[0m\n\u001b[0m\u001b[0;32m      4\u001b[0m \u001b[0mfolium\u001b[0m\u001b[1;33m.\u001b[0m\u001b[0mCircleMarker\u001b[0m\u001b[1;33m(\u001b[0m\u001b[1;33m[\u001b[0m\u001b[1;36m35.943167\u001b[0m\u001b[1;33m,\u001b[0m \u001b[1;36m128.682245\u001b[0m\u001b[1;33m]\u001b[0m\u001b[1;33m,\u001b[0m \u001b[0mradius\u001b[0m\u001b[1;33m=\u001b[0m\u001b[0mb\u001b[0m\u001b[1;33m/\u001b[0m\u001b[1;36m30000\u001b[0m\u001b[1;33m,\u001b[0m\u001b[0mcolor\u001b[0m\u001b[1;33m=\u001b[0m\u001b[1;34m'blue'\u001b[0m\u001b[1;33m,\u001b[0m\u001b[0mfill_color\u001b[0m\u001b[1;33m=\u001b[0m\u001b[1;34m'#3186cc'\u001b[0m\u001b[1;33m)\u001b[0m\u001b[1;33m.\u001b[0m\u001b[0madd_to\u001b[0m\u001b[1;33m(\u001b[0m\u001b[0mmap_osm\u001b[0m\u001b[1;33m)\u001b[0m \u001b[1;31m#동구\u001b[0m\u001b[1;33m\u001b[0m\u001b[1;33m\u001b[0m\u001b[0m\n\u001b[0;32m      5\u001b[0m \u001b[0mfolium\u001b[0m\u001b[1;33m.\u001b[0m\u001b[0mCircleMarker\u001b[0m\u001b[1;33m(\u001b[0m\u001b[1;33m[\u001b[0m\u001b[1;36m35.833766\u001b[0m\u001b[1;33m,\u001b[0m \u001b[1;36m128.661857\u001b[0m\u001b[1;33m]\u001b[0m\u001b[1;33m,\u001b[0m \u001b[0mradius\u001b[0m\u001b[1;33m=\u001b[0m\u001b[0mc\u001b[0m\u001b[1;33m/\u001b[0m\u001b[1;36m30000\u001b[0m\u001b[1;33m,\u001b[0m\u001b[0mcolor\u001b[0m\u001b[1;33m=\u001b[0m\u001b[1;34m'white'\u001b[0m\u001b[1;33m,\u001b[0m\u001b[0mfill_color\u001b[0m\u001b[1;33m=\u001b[0m\u001b[1;34m'#3186cc'\u001b[0m\u001b[1;33m)\u001b[0m\u001b[1;33m.\u001b[0m\u001b[0madd_to\u001b[0m\u001b[1;33m(\u001b[0m\u001b[0mmap_osm\u001b[0m\u001b[1;33m)\u001b[0m \u001b[1;31m#수성구\u001b[0m\u001b[1;33m\u001b[0m\u001b[1;33m\u001b[0m\u001b[0m\n",
      "\u001b[1;31mNameError\u001b[0m: name 'a' is not defined"
     ]
    }
   ],
   "source": [
    "#2019_0225~0301 대구 버스기사 발생인원 총합\n",
    "map_osm = folium.Map(location=[35.87222, 128.60250], zoom_start=11)\n",
    "folium.CircleMarker([35.825554,128.522400], radius=a/30000,color='red',fill_color='#3186cc').add_to(map_osm) #달서구\n",
    "folium.CircleMarker([35.943167, 128.682245], radius=b/30000,color='blue',fill_color='#3186cc').add_to(map_osm) #동구\n",
    "folium.CircleMarker([35.833766, 128.661857], radius=c/30000,color='white',fill_color='#3186cc').add_to(map_osm) #수성구\n",
    "folium.CircleMarker([35.759767, 128.486344], radius=d/30000,color='black',fill_color='#3186cc').add_to(map_osm) #달성군\n",
    "folium.CircleMarker([35.835756, 128.585926], radius=e/30000,color='yellow',fill_color='#3186cc').add_to(map_osm) #남구\n",
    "folium.CircleMarker([35.874749, 128.549190], radius=f/30000,color='green',fill_color='#3186cc').add_to(map_osm) #서구\n",
    "folium.CircleMarker([35.928377, 128.576568], radius=g/30000,color='pink',fill_color='#3186cc').add_to(map_osm) #북구\n",
    "folium.CircleMarker([35.866492, 128.592795], radius=h/30000,color='#3186cc',fill_color='#3186cc').add_to(map_osm) #중구\n",
    "# text = 'your text here'\n",
    "\n",
    "# iframe = folium.IFrame(text, width=700, height=450)\n",
    "\n",
    "# Text = folium.Marker(location=[35.825554,128.60250])\n",
    "# map_osm.add_child(Text)\n",
    "map_osm\n",
    "map_osm.save('daegus.html')"
   ]
  },
  {
   "cell_type": "code",
   "execution_count": 84,
   "metadata": {},
   "outputs": [
    {
     "data": {
      "text/html": [
       "<div style=\"width:100%;\"><div style=\"position:relative;width:100%;height:0;padding-bottom:60%;\"><span style=\"color:#565656\">Make this Notebook Trusted to load map: File -> Trust Notebook</span><iframe src=\"about:blank\" style=\"position:absolute;width:100%;height:100%;left:0;top:0;border:none !important;\" data-html=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 onload=\"this.contentDocument.open();this.contentDocument.write(atob(this.getAttribute('data-html')));this.contentDocument.close();\" allowfullscreen webkitallowfullscreen mozallowfullscreen></iframe></div></div>"
      ],
      "text/plain": [
       "<folium.folium.Map at 0x2260d3a7358>"
      ]
     },
     "execution_count": 84,
     "metadata": {},
     "output_type": "execute_result"
    }
   ],
   "source": [
    "#2020_0225~0301 대구 버스기사 확진후 총합\n",
    "map_osm = folium.Map(location=[35.87222, 128.60250], zoom_start=11)\n",
    "folium.CircleMarker([35.825554,128.522400], radius=aa/30000,color='red',fill_color='#3186cc',label='달서구').add_to(map_osm) #달서구\n",
    "folium.CircleMarker([35.943167, 128.682245], radius=bb/30000,color='blue',fill_color='#3186cc').add_to(map_osm) #동구\n",
    "folium.CircleMarker([35.833766, 128.661857], radius=cc/30000,color='white',fill_color='#3186cc').add_to(map_osm) #수성구\n",
    "folium.CircleMarker([35.759767, 128.486344], radius=dd/30000,color='black',fill_color='#3186cc').add_to(map_osm) #달성군\n",
    "folium.CircleMarker([35.835756, 128.585926], radius=ee/30000,color='yellow',fill_color='#3186cc').add_to(map_osm) #남구\n",
    "folium.CircleMarker([35.874749, 128.549190], radius=ff/30000,color='green',fill_color='#3186cc').add_to(map_osm) #서구\n",
    "folium.CircleMarker([35.928377, 128.576568], radius=gg/30000,color='pink',fill_color='#3186cc').add_to(map_osm) #북구\n",
    "folium.CircleMarker([35.866492, 128.592795], radius=hh/30000,color='#3186cc',fill_color='#3186cc').add_to(map_osm) #중구\n",
    "map_osm\n",
    "# map_osm.save('daegubuscorona2.html')"
   ]
  },
  {
   "cell_type": "code",
   "execution_count": 9,
   "metadata": {},
   "outputs": [],
   "source": [
    "import folium"
   ]
  },
  {
   "cell_type": "code",
   "execution_count": 14,
   "metadata": {
    "scrolled": true
   },
   "outputs": [
    {
     "ename": "TypeError",
     "evalue": "__init__() missing 1 required positional argument: 'geo_data'",
     "output_type": "error",
     "traceback": [
      "\u001b[1;31m---------------------------------------------------------------------------\u001b[0m",
      "\u001b[1;31mTypeError\u001b[0m                                 Traceback (most recent call last)",
      "\u001b[1;32m<ipython-input-14-ad160a1dfd63>\u001b[0m in \u001b[0;36m<module>\u001b[1;34m\u001b[0m\n\u001b[0;32m      4\u001b[0m \u001b[0mm\u001b[0m \u001b[1;33m=\u001b[0m \u001b[0mfolium\u001b[0m\u001b[1;33m.\u001b[0m\u001b[0mMap\u001b[0m\u001b[1;33m(\u001b[0m\u001b[0mlocation\u001b[0m\u001b[1;33m=\u001b[0m\u001b[0mcenter\u001b[0m\u001b[1;33m,\u001b[0m \u001b[0mzoom_start\u001b[0m\u001b[1;33m=\u001b[0m\u001b[1;36m11\u001b[0m\u001b[1;33m)\u001b[0m\u001b[1;33m\u001b[0m\u001b[1;33m\u001b[0m\u001b[0m\n\u001b[0;32m      5\u001b[0m \u001b[1;31m# Choropleth 레이어를 만들고, 맵 m에 추가합니다.\u001b[0m\u001b[1;33m\u001b[0m\u001b[1;33m\u001b[0m\u001b[1;33m\u001b[0m\u001b[0m\n\u001b[1;32m----> 6\u001b[1;33m \u001b[0mfolium\u001b[0m\u001b[1;33m.\u001b[0m\u001b[0mChoropleth\u001b[0m\u001b[1;33m(\u001b[0m  \u001b[0mdata\u001b[0m\u001b[1;33m=\u001b[0m\u001b[0mdata\u001b[0m\u001b[1;33m,\u001b[0m \u001b[0mcolumns\u001b[0m\u001b[1;33m=\u001b[0m\u001b[1;33m(\u001b[0m\u001b[1;34m'시군구코드'\u001b[0m\u001b[1;33m,\u001b[0m \u001b[1;34m'발생통행인원'\u001b[0m\u001b[1;33m)\u001b[0m\u001b[1;33m,\u001b[0m \u001b[0mkey_on\u001b[0m\u001b[1;33m=\u001b[0m\u001b[1;34m'data.시군구코드'\u001b[0m\u001b[1;33m,\u001b[0m \u001b[0mfill_color\u001b[0m\u001b[1;33m=\u001b[0m\u001b[1;34m'BuPu'\u001b[0m\u001b[1;33m,\u001b[0m \u001b[0mlegend_name\u001b[0m\u001b[1;33m=\u001b[0m\u001b[1;34m'통행인원인구'\u001b[0m\u001b[1;33m,\u001b[0m \u001b[1;33m)\u001b[0m\u001b[1;33m.\u001b[0m\u001b[0madd_to\u001b[0m\u001b[1;33m(\u001b[0m\u001b[0mm\u001b[0m\u001b[1;33m)\u001b[0m\u001b[1;33m\u001b[0m\u001b[1;33m\u001b[0m\u001b[0m\n\u001b[0m",
      "\u001b[1;31mTypeError\u001b[0m: __init__() missing 1 required positional argument: 'geo_data'"
     ]
    }
   ],
   "source": [
    "# geo_data = 'daegu.geojson'\n",
    "\n",
    "# # 서울시 중심부의 위도, 경도 입니다. \n",
    "# center = [35.87222, 128.60250] \n",
    "# # 맵이 center 에 위치하고, zoom 레벨은 11로 시작하는 맵 m을 만듭니다.\n",
    "# m = folium.Map(location=center, zoom_start=11) \n",
    "# # Choropleth 레이어를 만들고, 맵 m에 추가합니다.\n",
    "# folium.Choropleth( geo_data=geo_data, data=data, columns=('시군구코드', '발생통행인원'), key_on='data.시군구코드', fill_color='BuPu', legend_name='통행인원인구', ).add_to(m)"
   ]
  },
  {
   "cell_type": "code",
   "execution_count": null,
   "metadata": {},
   "outputs": [],
   "source": []
  },
  {
   "cell_type": "code",
   "execution_count": 65,
   "metadata": {},
   "outputs": [],
   "source": [
    "import csv\n",
    "from bs4 import BeautifulSoup as bs\n",
    "svg = open('Map_Daegu-gwangyeoksi.svg','r',encoding='UTF8')"
   ]
  },
  {
   "cell_type": "code",
   "execution_count": 61,
   "metadata": {
    "scrolled": false
   },
   "outputs": [
    {
     "ename": "UnicodeDecodeError",
     "evalue": "'cp949' codec can't decode byte 0xeb in position 496: illegal multibyte sequence",
     "output_type": "error",
     "traceback": [
      "\u001b[1;31m---------------------------------------------------------------------------\u001b[0m",
      "\u001b[1;31mUnicodeDecodeError\u001b[0m                        Traceback (most recent call last)",
      "\u001b[1;32m<ipython-input-61-7964da7f168a>\u001b[0m in \u001b[0;36m<module>\u001b[1;34m\u001b[0m\n\u001b[0;32m      1\u001b[0m \u001b[0mmap_svg\u001b[0m \u001b[1;33m=\u001b[0m \u001b[1;32mNone\u001b[0m\u001b[1;33m\u001b[0m\u001b[1;33m\u001b[0m\u001b[0m\n\u001b[0;32m      2\u001b[0m \u001b[1;32mwith\u001b[0m \u001b[0mopen\u001b[0m\u001b[1;33m(\u001b[0m\u001b[1;34m'Daegu-ko.svg'\u001b[0m\u001b[1;33m,\u001b[0m \u001b[1;34m'r'\u001b[0m\u001b[1;33m)\u001b[0m \u001b[1;32mas\u001b[0m \u001b[0mf\u001b[0m\u001b[1;33m:\u001b[0m\u001b[1;33m\u001b[0m\u001b[1;33m\u001b[0m\u001b[0m\n\u001b[1;32m----> 3\u001b[1;33m     \u001b[0mmap_svg\u001b[0m \u001b[1;33m=\u001b[0m \u001b[0mf\u001b[0m\u001b[1;33m.\u001b[0m\u001b[0mread\u001b[0m\u001b[1;33m(\u001b[0m\u001b[1;33m)\u001b[0m\u001b[1;33m\u001b[0m\u001b[1;33m\u001b[0m\u001b[0m\n\u001b[0m\u001b[0;32m      4\u001b[0m \u001b[1;33m\u001b[0m\u001b[0m\n\u001b[0;32m      5\u001b[0m \u001b[0mmap_svg\u001b[0m\u001b[1;33m\u001b[0m\u001b[1;33m\u001b[0m\u001b[0m\n",
      "\u001b[1;31mUnicodeDecodeError\u001b[0m: 'cp949' codec can't decode byte 0xeb in position 496: illegal multibyte sequence"
     ]
    }
   ],
   "source": [
    "map_svg = None\n",
    "with open('Daegu-ko.svg', 'r') as f:\n",
    "    map_svg = f.read()\n",
    "    \n",
    "map_svg"
   ]
  },
  {
   "cell_type": "code",
   "execution_count": null,
   "metadata": {},
   "outputs": [],
   "source": [
    "reader = pd.DataFrame()"
   ]
  },
  {
   "cell_type": "code",
   "execution_count": 66,
   "metadata": {},
   "outputs": [
    {
     "ename": "TypeError",
     "evalue": "'NoneType' object is not callable",
     "output_type": "error",
     "traceback": [
      "\u001b[1;31m---------------------------------------------------------------------------\u001b[0m",
      "\u001b[1;31mTypeError\u001b[0m                                 Traceback (most recent call last)",
      "\u001b[1;32m<ipython-input-66-0cd5ec602e6a>\u001b[0m in \u001b[0;36m<module>\u001b[1;34m\u001b[0m\n\u001b[0;32m      1\u001b[0m \u001b[0msoup\u001b[0m \u001b[1;33m=\u001b[0m \u001b[0mbs\u001b[0m\u001b[1;33m(\u001b[0m\u001b[0msvg\u001b[0m\u001b[1;33m)\u001b[0m\u001b[1;33m\u001b[0m\u001b[1;33m\u001b[0m\u001b[0m\n\u001b[0;32m      2\u001b[0m \u001b[1;33m\u001b[0m\u001b[0m\n\u001b[1;32m----> 3\u001b[1;33m \u001b[0mpaths\u001b[0m \u001b[1;33m=\u001b[0m \u001b[0msoup\u001b[0m\u001b[1;33m.\u001b[0m\u001b[0mfinAll\u001b[0m\u001b[1;33m(\u001b[0m\u001b[1;34m'g'\u001b[0m\u001b[1;33m)\u001b[0m\u001b[1;33m\u001b[0m\u001b[1;33m\u001b[0m\u001b[0m\n\u001b[0m\u001b[0;32m      4\u001b[0m \u001b[0mcolors\u001b[0m \u001b[1;33m=\u001b[0m  \u001b[1;33m[\u001b[0m\u001b[1;34m'#WCCE0FF'\u001b[0m\u001b[1;33m,\u001b[0m\u001b[1;34m\"$99C2FF\"\u001b[0m\u001b[1;33m,\u001b[0m\u001b[1;34m\"#3385FF\"\u001b[0m\u001b[1;33m,\u001b[0m\u001b[1;34m\"#0066FF\"\u001b[0m\u001b[1;33m,\u001b[0m\u001b[1;34m\"#0052CC\"\u001b[0m\u001b[1;33m,\u001b[0m\u001b[1;34m\"003D99\"\u001b[0m\u001b[1;33m]\u001b[0m\u001b[1;33m\u001b[0m\u001b[1;33m\u001b[0m\u001b[0m\n\u001b[0;32m      5\u001b[0m \u001b[0mg_style\u001b[0m \u001b[1;33m=\u001b[0m \u001b[1;34m'font-size:12px;fill-rule:nonzero;stroke:#FFFFFF;stroke-opacity:1;stroke-width:0.1;stroke-miterlimit:4;stroke-dasharray:none;stroke-linecap:butt;marker-start:none;storke-linejoin:bevel;fill'\u001b[0m\u001b[1;33m\u001b[0m\u001b[1;33m\u001b[0m\u001b[0m\n",
      "\u001b[1;31mTypeError\u001b[0m: 'NoneType' object is not callable"
     ]
    }
   ],
   "source": [
    "soup = bs(svg)\n",
    "\n",
    "paths = soup.finAll('g')\n",
    "colors =  ['#WCCE0FF',\"$99C2FF\",\"#3385FF\",\"#0066FF\",\"#0052CC\",\"003D99\"]\n",
    "g_style = 'font-size:12px;fill-rule:nonzero;stroke:#FFFFFF;stroke-opacity:1;stroke-width:0.1;stroke-miterlimit:4;stroke-dasharray:none;stroke-linecap:butt;marker-start:none;storke-linejoin:bevel;fill'"
   ]
  },
  {
   "cell_type": "code",
   "execution_count": null,
   "metadata": {},
   "outputs": [],
   "source": [
    "for p in paths:\n",
    "    try:\n",
    "        count = appear_count[p['id']]\n",
    "    except:\n",
    "        continue\n",
    "    \n",
    "    if count > 80:\n",
    "        color_class = 6\n",
    "    elif count > 65:\n",
    "        color_class = 5\n",
    "    elif count > 50 :\n",
    "        color_class = 4\n",
    "    elif count > 35 :\n",
    "        color_class = 3\n",
    "    elif count > 20 :\n",
    "        color_class =2 \n",
    "    elif count > 5 :\n",
    "        color_class = 1\n",
    "    else :\n",
    "        color_class = 0\n",
    "    \n",
    "    color = colors[color_class]\n",
    "    p['style'] = g_style + color\n",
    "    \n",
    "print(soup.prettify()) "
   ]
  }
 ],
 "metadata": {
  "kernelspec": {
   "display_name": "Python 3",
   "language": "python",
   "name": "python3"
  },
  "language_info": {
   "codemirror_mode": {
    "name": "ipython",
    "version": 3
   },
   "file_extension": ".py",
   "mimetype": "text/x-python",
   "name": "python",
   "nbconvert_exporter": "python",
   "pygments_lexer": "ipython3",
   "version": "3.8.5"
  }
 },
 "nbformat": 4,
 "nbformat_minor": 2
}
